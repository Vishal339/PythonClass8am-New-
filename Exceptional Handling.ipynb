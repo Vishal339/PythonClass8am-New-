{
 "cells": [
  {
   "cell_type": "code",
   "execution_count": 1,
   "metadata": {},
   "outputs": [],
   "source": [
    "# Exceptional Handling\n",
    "\n",
    "# try:\n",
    "#     <oprations>\n",
    "\n",
    "# except:\n",
    "#     <oprations>\n",
    "    "
   ]
  },
  {
   "cell_type": "code",
   "execution_count": 3,
   "metadata": {},
   "outputs": [
    {
     "name": "stdout",
     "output_type": "stream",
     "text": [
      "a = 10\n",
      "b = 0\n",
      "The value of b can not be zero.\n"
     ]
    }
   ],
   "source": [
    "try:     # try your confusion here of both operations #\n",
    "    a = int(input(\"a = \"))\n",
    "    b = int(input(\"b = \"))\n",
    "    c = a+b\n",
    "    d = a/b\n",
    "    print(c)\n",
    "    print(d)\n",
    "\n",
    "except ValueError:\n",
    "    print(\"Plz enter int datatype. \")\n",
    "except ZeroDivisionError:\n",
    "    print(\"The value of b can not be zero.\")\n",
    "    \n"
   ]
  },
  {
   "cell_type": "code",
   "execution_count": 6,
   "metadata": {},
   "outputs": [
    {
     "name": "stdout",
     "output_type": "stream",
     "text": [
      "a = 10\n",
      "b = 0\n",
      "The value of b can not be zero.\n",
      "a = 12\n",
      "b = 3\n",
      "15\n",
      "4.0\n"
     ]
    }
   ],
   "source": [
    "def cal():\n",
    "    try:\n",
    "        a = int(input(\"a = \"))\n",
    "        b = int(input(\"b = \"))\n",
    "        c = a+b\n",
    "        d = a/b\n",
    "        print(c)\n",
    "        print(d)\n",
    "    except ValueError:\n",
    "        print(\"Plz enter int datatype. \")\n",
    "        cal()\n",
    "    except ZeroDivisionError:\n",
    "        print(\"The value of b can not be zero.\")\n",
    "        cal()\n",
    "        \n",
    "cal()\n"
   ]
  },
  {
   "cell_type": "code",
   "execution_count": 12,
   "metadata": {},
   "outputs": [
    {
     "name": "stdout",
     "output_type": "stream",
     "text": [
      "l = 2\n",
      "b = d\n",
      "Plz enter int datatype. \n"
     ]
    }
   ],
   "source": [
    "try:\n",
    "    l = int(input(\"l = \"))\n",
    "    b = int(input(\"b = \"))\n",
    "   \n",
    "except:\n",
    "    print(\"Plz enter int datatype. \")\n",
    "else:\n",
    "    a= l/b\n",
    "    print(c)\n",
    "    \n",
    "    \n"
   ]
  },
  {
   "cell_type": "code",
   "execution_count": 13,
   "metadata": {},
   "outputs": [
    {
     "name": "stdout",
     "output_type": "stream",
     "text": [
      "l = 2\n",
      "b = 3\n",
      "10\n",
      "Thanks for Using...\n"
     ]
    }
   ],
   "source": [
    "try:                          # run the code\n",
    "    l = int(input(\"l = \"))\n",
    "    b = int(input(\"b = \"))\n",
    "   \n",
    "except:                                # run only if exception occurs\n",
    "    print(\"Plz enter int datatype. \") \n",
    "else:\n",
    "    a= l/b\n",
    "    print(c)\n",
    "finally:\n",
    "    print(\"Thanks for Using...\")  # always run\n",
    "    "
   ]
  },
  {
   "cell_type": "code",
   "execution_count": 18,
   "metadata": {},
   "outputs": [
    {
     "name": "stdout",
     "output_type": "stream",
     "text": [
      "a = 10\n",
      "b = 0\n",
      "The value of b can not be zero.\n"
     ]
    }
   ],
   "source": [
    "# raise ( use to raise exception in program by programer anywhere in the code.) \n",
    "# not necesarry but can be used\n",
    "\n",
    "try:\n",
    "    a = int(input(\"a = \"))\n",
    "    b = int(input(\"b = \"))\n",
    "    if b == 0:\n",
    "        raise ZeroDivisionError  # eroor name can any error() putted by programer\n",
    "    else:\n",
    "        print(\"a/b = \",a/b)\n",
    "\n",
    "except ZeroDivisionError:\n",
    "    print(\"The value of b can not be zero.\")\n"
   ]
  },
  {
   "cell_type": "code",
   "execution_count": 19,
   "metadata": {},
   "outputs": [
    {
     "name": "stdout",
     "output_type": "stream",
     "text": [
      "Enter n = 11\n"
     ]
    },
    {
     "ename": "AssertionError",
     "evalue": "",
     "output_type": "error",
     "traceback": [
      "\u001b[1;31m---------------------------------------------------------------------------\u001b[0m",
      "\u001b[1;31mAssertionError\u001b[0m                            Traceback (most recent call last)",
      "\u001b[1;32m<ipython-input-19-933abb3b1d77>\u001b[0m in \u001b[0;36m<module>\u001b[1;34m\u001b[0m\n\u001b[0;32m      2\u001b[0m \u001b[1;33m\u001b[0m\u001b[0m\n\u001b[0;32m      3\u001b[0m \u001b[0mn\u001b[0m \u001b[1;33m=\u001b[0m \u001b[0mint\u001b[0m\u001b[1;33m(\u001b[0m\u001b[0minput\u001b[0m\u001b[1;33m(\u001b[0m\u001b[1;34m\"Enter n = \"\u001b[0m\u001b[1;33m)\u001b[0m\u001b[1;33m)\u001b[0m\u001b[1;33m\u001b[0m\u001b[1;33m\u001b[0m\u001b[0m\n\u001b[1;32m----> 4\u001b[1;33m \u001b[1;32massert\u001b[0m \u001b[0mn\u001b[0m\u001b[1;33m%\u001b[0m\u001b[1;36m2\u001b[0m \u001b[1;33m==\u001b[0m \u001b[1;36m0\u001b[0m\u001b[1;33m\u001b[0m\u001b[1;33m\u001b[0m\u001b[0m\n\u001b[0m",
      "\u001b[1;31mAssertionError\u001b[0m: "
     ]
    }
   ],
   "source": [
    "# assert ( AssertionError )\n",
    "\n",
    "n = int(input(\"Enter n = \"))\n",
    "assert n%2 == 0   # can be use this assert with exception insted of if-else statement"
   ]
  },
  {
   "cell_type": "code",
   "execution_count": 21,
   "metadata": {},
   "outputs": [
    {
     "name": "stdout",
     "output_type": "stream",
     "text": [
      "Enter n = 11\n",
      "Enter only even number.\n"
     ]
    }
   ],
   "source": [
    "#  AssertionError handling using try-exception\n",
    "\n",
    "try:\n",
    "    n = int(input(\"Enter n = \"))\n",
    "    assert n%2 == 0\n",
    "except:\n",
    "    print(\"Enter only even number.\")\n"
   ]
  },
  {
   "cell_type": "code",
   "execution_count": null,
   "metadata": {},
   "outputs": [],
   "source": []
  }
 ],
 "metadata": {
  "kernelspec": {
   "display_name": "Python 3",
   "language": "python",
   "name": "python3"
  },
  "language_info": {
   "codemirror_mode": {
    "name": "ipython",
    "version": 3
   },
   "file_extension": ".py",
   "mimetype": "text/x-python",
   "name": "python",
   "nbconvert_exporter": "python",
   "pygments_lexer": "ipython3",
   "version": "3.8.5"
  }
 },
 "nbformat": 4,
 "nbformat_minor": 4
}
