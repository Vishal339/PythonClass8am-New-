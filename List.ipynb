{
 "cells": [
  {
   "cell_type": "code",
   "execution_count": 1,
   "metadata": {},
   "outputs": [],
   "source": [
    "# list\n",
    " # -indexed\n",
    " # -ordered\n",
    " # -dulicate members\n",
    " # -mutable"
   ]
  },
  {
   "cell_type": "code",
   "execution_count": 3,
   "metadata": {},
   "outputs": [
    {
     "name": "stdout",
     "output_type": "stream",
     "text": [
      "Apple\n",
      "['Apple', 'Ball', 'cat', 1]\n",
      "['Apple', 'cat', 2, 4]\n"
     ]
    }
   ],
   "source": [
    "# list consists of various data types\n",
    "# Indexing & Slicing\n",
    "\n",
    "a = [\"Apple\",\"Ball\",\"cat\",1,2,3,4]\n",
    "print(a[0])\n",
    "print(a[0:4])\n",
    "print(a[0::2])"
   ]
  },
  {
   "cell_type": "code",
   "execution_count": 6,
   "metadata": {},
   "outputs": [
    {
     "name": "stdout",
     "output_type": "stream",
     "text": [
      "[1, 2, 3, 4, 5, 6]\n",
      "[1, 2, 3, 1, 2, 3]\n"
     ]
    }
   ],
   "source": [
    "# List Concatenation\n",
    "\n",
    "a = [1,2,3]\n",
    "b = [4,5,6]\n",
    "print(a+b)\n",
    "print(a*2) # print(a+a)"
   ]
  },
  {
   "cell_type": "code",
   "execution_count": 8,
   "metadata": {},
   "outputs": [
    {
     "name": "stdout",
     "output_type": "stream",
     "text": [
      "Enter n = 3\n",
      "Enter x = 1\n",
      "Enter x = 2\n",
      "Enter x = 3\n",
      "The list is =  [1, 2, 3]\n",
      "The sum is  6\n",
      "The max value =  3\n",
      "The min value =  1\n"
     ]
    }
   ],
   "source": [
    "# Using sum(), max(), min() function\n",
    "# Creating a list with the user inputs.\n",
    "\n",
    "l = []\n",
    "n = int(input(\"Enter n = \"))  # n is the len(l) defined by user.\n",
    "for i in range(n):\n",
    "    x = int(input(\"Enter x = \")) # x is the elements of list l enterted by the user, with the unique index i \n",
    "    l = l+[x]\n",
    "print(\"The list is = \",l)\n",
    "print(\"The sum is \",sum(l))    # to find the sum of elements(int)\n",
    "print(\"The max value = \",max(l))  # to find the max value among all elements(int)\n",
    "print(\"The min value = \",min(l))   # to find the min value among all elements(int)"
   ]
  },
  {
   "cell_type": "code",
   "execution_count": 18,
   "metadata": {},
   "outputs": [
    {
     "name": "stdout",
     "output_type": "stream",
     "text": [
      "[123, 342, 45, 234, 55]\n",
      "[45, 55, 123, 234, 342]\n"
     ]
    }
   ],
   "source": [
    "# Using sort() function\n",
    "# To sort given list in acending order\n",
    "\n",
    "l = [123, 342, 45, 234, 55]\n",
    "print(l)\n",
    "l.sort()\n",
    "print(l)"
   ]
  },
  {
   "cell_type": "code",
   "execution_count": 19,
   "metadata": {},
   "outputs": [
    {
     "name": "stdout",
     "output_type": "stream",
     "text": [
      "[55, 234, 45, 342, 123]\n"
     ]
    }
   ],
   "source": [
    "# Using reverse() function\n",
    "\n",
    "l = [123, 342, 45, 234, 55]\n",
    "l.reverse()\n",
    "print(l)"
   ]
  },
  {
   "cell_type": "code",
   "execution_count": 23,
   "metadata": {},
   "outputs": [
    {
     "name": "stdout",
     "output_type": "stream",
     "text": [
      "[342, 234, 123, 55, 45]\n"
     ]
    }
   ],
   "source": [
    "# Note: To sort given list in decending order\n",
    "  # First we use sort() function & then reverse()\n",
    "\n",
    "l = [123, 342, 45, 234, 55]\n",
    "l.sort(reverse = True) # l.sort()\n",
    "                       # l.reverse()\n",
    "print(l)"
   ]
  },
  {
   "cell_type": "code",
   "execution_count": 24,
   "metadata": {},
   "outputs": [
    {
     "name": "stdout",
     "output_type": "stream",
     "text": [
      "['.apple', '1Ball', 'XRay', 'Zebra', 'apble', 'apple']\n"
     ]
    }
   ],
   "source": [
    "# Using sort() function\n",
    "# To sort given list in acending order\n",
    "\n",
    "a = [\".apple\",\"Zebra\",\"1Ball\",\"XRay\",\"apple\",\"apble\"]\n",
    "a.sort()\n",
    "print(a)"
   ]
  },
  {
   "cell_type": "code",
   "execution_count": 26,
   "metadata": {},
   "outputs": [
    {
     "name": "stdout",
     "output_type": "stream",
     "text": [
      "['Ant', 'Ball', 'cat']\n"
     ]
    }
   ],
   "source": [
    "# Mutating the element\n",
    "# changing the 0 index element\n",
    "\n",
    "a = [\"Apple\",\"Ball\",\"cat\"]\n",
    "a[0] = \"Ant\"\n",
    "print(a)"
   ]
  },
  {
   "cell_type": "code",
   "execution_count": 28,
   "metadata": {},
   "outputs": [
    {
     "name": "stdout",
     "output_type": "stream",
     "text": [
      "Ball\n",
      "cat\n",
      "Dog\n"
     ]
    }
   ],
   "source": [
    "# Using control stalement: continue\n",
    "\n",
    "a = [\"Apple\",\"Ball\",\"cat\",\"Dog\",\"Apple\"]\n",
    "for i in a:\n",
    "    if i == \"Apple\":\n",
    "        continue\n",
    "    print(i)"
   ]
  },
  {
   "cell_type": "code",
   "execution_count": 29,
   "metadata": {},
   "outputs": [
    {
     "name": "stdout",
     "output_type": "stream",
     "text": [
      "Apple\n",
      "Ball\n",
      "We didi it\n"
     ]
    }
   ],
   "source": [
    "# Using control stalement: break\n",
    "\n",
    "a = [\"Apple\",\"Ball\",\"cat\",\"Dog\",\"Apple\"]\n",
    "for i in a:\n",
    "    if i == \"cat\":\n",
    "        break\n",
    "    print(i)\n",
    "print(\"We didi it\")"
   ]
  },
  {
   "cell_type": "code",
   "execution_count": 31,
   "metadata": {},
   "outputs": [
    {
     "name": "stdout",
     "output_type": "stream",
     "text": [
      "\n",
      "Search: Apple\n",
      "Yes (Numbers of Apple is 2 )\n"
     ]
    }
   ],
   "source": [
    "# searching the element in the given list\n",
    "# using if-else staement\n",
    "# it finds the element with no. of occurrence\n",
    "\n",
    "a = [\"Apple\",\"Ball\",\"cat\",\"Dog\",\"Apple\"]\n",
    "search = input(\"\\nSearch: \")\n",
    "if search in a:\n",
    "    print(\"Yes\",\"(Numbers of\",search, \"is\" ,a.count(search),\")\")\n",
    "else:\n",
    "    print(\"No\")"
   ]
  },
  {
   "cell_type": "code",
   "execution_count": 1,
   "metadata": {},
   "outputs": [
    {
     "name": "stdout",
     "output_type": "stream",
     "text": [
      "Search:\n",
      " Apple\n",
      "Yes (present in index) 0\n",
      "Yes (present in index) 4\n"
     ]
    }
   ],
   "source": [
    "# searching the element in the given list\n",
    "# using for staement\n",
    "# it finds the element with it's index of occurrence\n",
    "\n",
    "a = [\"Apple\",\"Ball\",\"cat\",\"Dog\",\"Apple\"]\n",
    "search = input(\"Search:\\n \")\n",
    "for i in range(len(a)):\n",
    "    if search in a[i]:  # if search == a[i]:\n",
    "        print(\"Yes\",\"(present in index)\", i)"
   ]
  },
  {
   "cell_type": "code",
   "execution_count": 1,
   "metadata": {},
   "outputs": [
    {
     "name": "stdout",
     "output_type": "stream",
     "text": [
      "Enter x = apple\n",
      "Yes 0\n",
      "Yes 4\n"
     ]
    }
   ],
   "source": [
    "# WAP for item search that might be in uppercase or lower case\n",
    "\n",
    "a = [\"Apple\",\"Ball\",\"cat\",\"Dog\",\"Apple\"]\n",
    "x = input(\"Enter x = \")\n",
    "n = len(a)\n",
    "for i in range(n):\n",
    "    if x.upper() == a[i].upper():\n",
    "        print(\"Yes\",i)\n"
   ]
  },
  {
   "cell_type": "code",
   "execution_count": 4,
   "metadata": {},
   "outputs": [
    {
     "name": "stdout",
     "output_type": "stream",
     "text": [
      "['Apple', 'Ball', 2, 10.5]\n"
     ]
    }
   ],
   "source": [
    "# append() function- to insert elements in the list.\n",
    "# Note: It insert element at the end of the list.\n",
    "\n",
    "a = []\n",
    "a.append(\"Apple\")\n",
    "a.append(\"Ball\")\n",
    "a.append(2)\n",
    "a.append(10.5)\n",
    "print(a)"
   ]
  },
  {
   "cell_type": "code",
   "execution_count": 5,
   "metadata": {},
   "outputs": [
    {
     "name": "stdout",
     "output_type": "stream",
     "text": [
      "Enter n = 3\n",
      "Enter x = 22\n",
      "Enter x = 33\n",
      "Enter x = 44\n",
      "The list is =  [22, 33, 44]\n",
      "The sum is  99\n",
      "The max value =  44\n",
      "The min value =  22\n"
     ]
    }
   ],
   "source": [
    "# Creating list with the user inputs\n",
    "\n",
    "l = []\n",
    "n = int(input(\"Enter n = \"))\n",
    "for i in range(n):\n",
    "    x = int(input(\"Enter x = \"))\n",
    "    l.append(x)\n",
    "    \n",
    "print(\"The list is = \",l)\n",
    "print(\"The sum is \",sum(l))\n",
    "print(\"The max value = \",max(l))\n",
    "print(\"The min value = \",min(l))"
   ]
  },
  {
   "cell_type": "code",
   "execution_count": 7,
   "metadata": {},
   "outputs": [
    {
     "name": "stdout",
     "output_type": "stream",
     "text": [
      "[321, 43, 'Apple', 54, 432, 'Apple', 56]\n"
     ]
    }
   ],
   "source": [
    "# insert() function- to insert element at desired index\n",
    "\n",
    "a = [321, 43, 54, 432, 56]\n",
    "a.insert(2,\"Apple\")\n",
    "a.insert(-1,\"Apple\") # insert \"Apple\" at -1 index where 56 situated currently, & so 56 move forward.\n",
    "print(a)"
   ]
  },
  {
   "cell_type": "code",
   "execution_count": null,
   "metadata": {},
   "outputs": [],
   "source": [
    "# del remove() pop() clear()"
   ]
  },
  {
   "cell_type": "code",
   "execution_count": 14,
   "metadata": {},
   "outputs": [
    {
     "name": "stdout",
     "output_type": "stream",
     "text": [
      "[321, 43, 54, 432, 56]\n",
      "The index of Ball is = 5\n",
      "[321, 43, 54, 432, 22, 56]\n"
     ]
    }
   ],
   "source": [
    "# del\n",
    "\n",
    "a = [321, 43, 54, 432, 'Apple', 56]\n",
    "del a[4]  # deleting element at the 4th index in list a\n",
    "print(a)\n",
    "\n",
    "\n",
    "# if you don't know the index of the element but you know the element to be deleted\n",
    "# index() function- to find the element index\n",
    "\n",
    "a = [321, 43, 54, 432, 22, 'Ball', 56]\n",
    "i = a.index(\"Ball\") \n",
    "print(\"The index of Ball is =\",i)\n",
    "del a[i]\n",
    "print(a)"
   ]
  },
  {
   "cell_type": "code",
   "execution_count": 15,
   "metadata": {},
   "outputs": [
    {
     "name": "stdout",
     "output_type": "stream",
     "text": [
      "[43, 432, 56]\n"
     ]
    }
   ],
   "source": [
    "# to delete element using sclicing \n",
    "\n",
    "a = [321, 43, 54, 432, 'Apple', 56]\n",
    "del a[0::2]\n",
    "print(a)"
   ]
  },
  {
   "cell_type": "code",
   "execution_count": 16,
   "metadata": {},
   "outputs": [
    {
     "name": "stdout",
     "output_type": "stream",
     "text": [
      "[321, 43, 54, 432, 56]\n"
     ]
    }
   ],
   "source": [
    "# remove() function\n",
    "# To remove the element in the list\n",
    "# here need to know element instesd of it's index\n",
    "\n",
    "a = [321, 43, 54, 432, 'Apple', 56]\n",
    "a.remove(\"Apple\")\n",
    "print(a)"
   ]
  },
  {
   "cell_type": "code",
   "execution_count": 18,
   "metadata": {},
   "outputs": [
    {
     "name": "stdout",
     "output_type": "stream",
     "text": [
      "3\n",
      "['Ball', 'Cat']\n"
     ]
    }
   ],
   "source": [
    "# remove one element at a time\n",
    "# so remove multiple duplicate element, need to use remove() function\n",
    "# need to use remove() function as of the element count\n",
    "\n",
    "a = [\"Apple\",\"Ball\",\"Apple\",\"Cat\",\"Apple\"]\n",
    "b = a.count(\"Apple\")\n",
    "print(b)\n",
    "a.remove(\"Apple\")\n",
    "a.remove(\"Apple\")\n",
    "a.remove(\"Apple\")\n",
    "print(a)"
   ]
  },
  {
   "cell_type": "code",
   "execution_count": 19,
   "metadata": {},
   "outputs": [
    {
     "name": "stdout",
     "output_type": "stream",
     "text": [
      "['Ball', 'Cat']\n"
     ]
    }
   ],
   "source": [
    "# Now using for loop \n",
    "# removing duplicate elements\n",
    "\n",
    "a = [\"Apple\",\"Ball\",\"Apple\",\"Cat\",\"Apple\"]\n",
    " # n = a.count(\"Apple\")\n",
    "for i in a:  # check Apple at every index in a\n",
    "    a.remove(\"Apple\") # & remove it  \n",
    "print(a)"
   ]
  },
  {
   "cell_type": "code",
   "execution_count": 21,
   "metadata": {},
   "outputs": [
    {
     "name": "stdout",
     "output_type": "stream",
     "text": [
      "['Ball', 'Apple', 'Cat', 'Apple']\n",
      "['Ball', 'Cat', 'Apple']\n",
      "['Ball', 'Cat']\n"
     ]
    }
   ],
   "source": [
    "a = [\"Apple\",\"Ball\",\"Apple\",\"Cat\",\"Apple\"]\n",
    "n = a.count(\"Apple\")\n",
    "for i in range(n):\n",
    "    a.remove(\"Apple\")\n",
    "    print(a)"
   ]
  },
  {
   "cell_type": "code",
   "execution_count": 17,
   "metadata": {},
   "outputs": [
    {
     "name": "stdout",
     "output_type": "stream",
     "text": [
      "Apple\n",
      "[321, 43, 54, 432, 56]\n"
     ]
    }
   ],
   "source": [
    "# pop() function\n",
    "# To pop out the particular element out of the list\n",
    "\n",
    "a = [321, 43, 54, 432, 56, 'Apple']\n",
    "b = a.pop(5)  # need to store the pop out value to some variables\n",
    "print(b)\n",
    "print(a)  # print the updated list after the element is pop out"
   ]
  },
  {
   "cell_type": "code",
   "execution_count": 22,
   "metadata": {},
   "outputs": [
    {
     "name": "stdout",
     "output_type": "stream",
     "text": [
      "Apple\n",
      "Ball\n",
      "Apple\n"
     ]
    }
   ],
   "source": [
    "a = [\"Apple\",\"Ball\",\"Apple\",\"Cat\",\"Apple\"]\n",
    "for i in range(3): # print elements of index 0, 1 & 2 out of list\n",
    "    print(a[i])"
   ]
  },
  {
   "cell_type": "code",
   "execution_count": 23,
   "metadata": {},
   "outputs": [
    {
     "name": "stdout",
     "output_type": "stream",
     "text": [
      "['Ball', 'cat', 'Dog']\n"
     ]
    }
   ],
   "source": [
    "# removing or deleting element \n",
    "# using loop and control statement\n",
    "\n",
    "b = []\n",
    "a = [\"Apple\",\"Ball\",\"cat\",\"Dog\",\"Apple\"]\n",
    "  # n = len(a)\n",
    "for i in a:   # for i range(n):\n",
    "    if i == \"Apple\": # if a[i] == \"Apple\"\n",
    "        continue\n",
    "    b.append(i) # b.append(a[i])\n",
    "print(b)"
   ]
  },
  {
   "cell_type": "code",
   "execution_count": 9,
   "metadata": {},
   "outputs": [
    {
     "name": "stdout",
     "output_type": "stream",
     "text": [
      "[]\n"
     ]
    }
   ],
   "source": [
    "# clear( function)\n",
    "# used to reset the list as empty list\n",
    "# list can be empty by using {del a[:]}\n",
    "\n",
    "a = [1,2,3,4,5,6]\n",
    "a.clear() # del a[:]\n",
    "print(a)"
   ]
  },
  {
   "cell_type": "code",
   "execution_count": 3,
   "metadata": {},
   "outputs": [
    {
     "name": "stdout",
     "output_type": "stream",
     "text": [
      "<class 'list'>\n",
      "3\n",
      "[7, 8, 9]\n",
      "7\n",
      "[[1, 2, 3], [4, 5, 6]]\n"
     ]
    }
   ],
   "source": [
    "# list inside list\n",
    "\n",
    "a = [[1,2,3],\n",
    "     [4,5,6],\n",
    "     [7,8,9]]\n",
    "print(type(a))\n",
    "print(len(a))\n",
    "print(a[2])\n",
    "print(a[2][0])\n",
    "print(a[0:2])"
   ]
  },
  {
   "cell_type": "code",
   "execution_count": 4,
   "metadata": {},
   "outputs": [
    {
     "name": "stdout",
     "output_type": "stream",
     "text": [
      "[[1, 2, 3], [4, 5, 6], [7, 8, 9]]\n",
      "[[1, 2, 3], [4, 5, 6], [1, 2, 3], [4, 5, 6]]\n",
      "[[1, 2, 3], [4, 5, 6], 1, 2, 3]\n"
     ]
    }
   ],
   "source": [
    "# List concatenate\n",
    "\n",
    "a = [[1,2,3],[4,5,6]]\n",
    "b = [[7,8,9]]\n",
    "c = [1,2,3]\n",
    "print(a+b)\n",
    "print(a*2)\n",
    "print(a+c)"
   ]
  },
  {
   "cell_type": "code",
   "execution_count": 7,
   "metadata": {},
   "outputs": [
    {
     "name": "stdout",
     "output_type": "stream",
     "text": [
      "Enter n = 3\n",
      "Enter name = Ram\n",
      "Enter age = 27\n",
      "Enter address Tinkune\n",
      "Enter name = Hari\n",
      "Enter age = 26\n",
      "Enter address Koteshwor\n",
      "Enter name = Shiv\n",
      "Enter age = 28\n",
      "Enter address Shantinagar\n",
      "[[1, 'Ram', 27, 'Tinkune'], [2, 'Hari', 26, 'Koteshwor'], [3, 'Shiv', 28, 'Shantinagar']]\n"
     ]
    }
   ],
   "source": [
    "# to create list insie list with user input\n",
    "\n",
    "data = []\n",
    "n = int(input(\"Enter n = \"))\n",
    "for i in range(1,n+1):\n",
    "    name = input(\"Enter name = \")\n",
    "    age = int(input(\"Enter age = \"))\n",
    "    add = input(\"Enter address \")\n",
    "    info = [i,name,age,add]\n",
    "    data.append(info)\n",
    "print(data)"
   ]
  },
  {
   "cell_type": "code",
   "execution_count": 8,
   "metadata": {},
   "outputs": [
    {
     "name": "stdout",
     "output_type": "stream",
     "text": [
      "[1, 'Ram', 27, 'Tinkune']\n",
      "[2, 'Hari', 26, 'Koteshwor']\n",
      "[3, 'Shiv', 28, 'Shantinagar']\n",
      "Enter sn = 1\n",
      "[1, 'Ram', 27, 'Tinkune']\n"
     ]
    }
   ],
   "source": [
    "# printing each item in the list(list inside list)\n",
    "\n",
    "data = [[1, 'Ram', 27, 'Tinkune'], [2, 'Hari', 26, 'Koteshwor'], [3, 'Shiv', 28, 'Shantinagar']]\n",
    "for i in data:\n",
    "    print(i)\n",
    "\n",
    "# output by serial number (sn)\n",
    "    \n",
    "sn = int(input(\"Enter sn = \"))\n",
    "print(data[sn-1])\n"
   ]
  },
  {
   "cell_type": "code",
   "execution_count": 5,
   "metadata": {},
   "outputs": [
    {
     "name": "stdout",
     "output_type": "stream",
     "text": [
      "No\n"
     ]
    }
   ],
   "source": [
    "# Search in list in list\n",
    "\n",
    "data = [[1, 'Ram', 27, 'Tinkune'], [2, 'Hari', 26, 'Koteshwor'], [3, 'Shiv', 28, 'Shantinagar']]\n",
    "if \"Ram\" in data:  # it srach \"Ram\" in all the index of data(0,1,2),\n",
    "                   # it found anonther list at every index\n",
    "                   # it search \"Ram\" but it found All element of list in list\n",
    "                   # so we have to search in list within the list\n",
    "    print(\"Yes\")\n",
    "else:\n",
    "    print(\"No\")"
   ]
  },
  {
   "cell_type": "code",
   "execution_count": 6,
   "metadata": {},
   "outputs": [
    {
     "name": "stdout",
     "output_type": "stream",
     "text": [
      "Enter value for search Ram\n",
      "[1, 'Ram', '27', 'Tinkune']\n"
     ]
    }
   ],
   "source": [
    "# search in list in list\n",
    "\n",
    "data = [[1, 'Ram', 27, 'Tinkune'],\n",
    "        [2, 'Hari', 26, 'Koteshwor'], \n",
    "        [3, 'Shiv', 28, 'Shantinagar']]\n",
    "search = input(\"Enter value for search \")\n",
    "for i in data:\n",
    "    if search in i:\n",
    "        print(i)"
   ]
  },
  {
   "cell_type": "code",
   "execution_count": 9,
   "metadata": {},
   "outputs": [
    {
     "name": "stdout",
     "output_type": "stream",
     "text": [
      "Enter n = 3\n",
      "Enter name = Apple\n",
      "Enter price = 200\n",
      "Enter  = 2\n",
      "Enter name = Banana\n",
      "Enter price = 100\n",
      "Enter  = 10\n",
      "Enter name = Mango\n",
      "Enter price = 70\n",
      "Enter  = 5\n",
      "[['Apple', 200, 2, 400], ['Banana', 100, 10, 1000], ['Mango', 70, 5, 350]]\n",
      "1750\n"
     ]
    }
   ],
   "source": [
    "# WAP for billing system using list\n",
    "\n",
    "data = []\n",
    "all_total = 0\n",
    "n = int(input(\"Enter n = \"))\n",
    "for i in range(n):\n",
    "    name = input(\"Enter name = \")\n",
    "    price = int(input(\"Enter price = \"))\n",
    "    quantity = int(input(\"Enter quantity  = \"))\n",
    "    total = price*quantity\n",
    "    info = [i+1,name,price,quantity,total]\n",
    "    all_total = all_total + total\n",
    "    data.append(info)\n",
    "   \n",
    "print(data)\n",
    "print(all_total)"
   ]
  },
  {
   "cell_type": "code",
   "execution_count": 17,
   "metadata": {},
   "outputs": [
    {
     "name": "stdout",
     "output_type": "stream",
     "text": [
      "Enter value for search = Banana\n",
      "[['Apple', 200, 2, 400], ['Mango', 70, 5, 350]]\n"
     ]
    }
   ],
   "source": [
    "# remove\n",
    "\n",
    "a =[['Apple', 200, 2, 400],\n",
    "    ['Banana', 100, 10, 1000],\n",
    "    ['Mango', 70, 5, 350]]\n",
    "search = input(\"Enter value for search = \")\n",
    "for i in a:\n",
    "    if search in i:\n",
    "        a.remove(i)\n",
    "        \n",
    "print(a)"
   ]
  },
  {
   "cell_type": "code",
   "execution_count": 2,
   "metadata": {},
   "outputs": [
    {
     "name": "stdout",
     "output_type": "stream",
     "text": [
      "Enter new quantity = 5\n",
      "Enter index = 1\n",
      "[['Apple', 200, 2, 400], ['Banana', 100, 5, 500], ['Mango', 70, 5, 350]]\n"
     ]
    }
   ],
   "source": [
    "# # search and change the values in above program\n",
    "# if we know the index\n",
    "\n",
    "a = [['Apple', 200, 2, 400],\n",
    "    ['Banana', 100, 10, 1000],\n",
    "    ['Mango', 70, 5, 350]]\n",
    "q = int(input(\"Enter new quantity = \"))\n",
    "i = int(input(\"Enter index = \"))\n",
    "\n",
    "a[i][2] = q\n",
    "price = a[i][1]\n",
    "new_total = price*q\n",
    "a[i][3] = new_total\n",
    "print(a)"
   ]
  },
  {
   "cell_type": "code",
   "execution_count": 6,
   "metadata": {},
   "outputs": [
    {
     "name": "stdout",
     "output_type": "stream",
     "text": [
      "Enter product name = Apple\n",
      "Enter new quantity = 3\n",
      "[['Apple', 200, 3, 600], ['Banana', 100, 10, 1000], ['Mango', 70, 5, 350]]\n",
      "all_total: 1950\n"
     ]
    }
   ],
   "source": [
    "# search and change the values in above program\n",
    "\n",
    "a =[['Apple', 200, 2, 400],\n",
    "    ['Banana', 100, 10, 1000],\n",
    "    ['Mango', 70, 5, 350]]\n",
    "search = input(\"Enter product name = \")\n",
    "for i in a:  # for i in range(len(a)):\n",
    "    if search in i: # if search in a[i]:\n",
    "        index = a.index(i)  # index = i\n",
    "      \n",
    "q = int(input(\"Enter new quantity = \"))\n",
    "\n",
    "\n",
    "a[index][2] = q\n",
    "price = a[index][1]\n",
    "new_total = price*q\n",
    "a[index][3] = new_total\n",
    "print(a)\n",
    "print(\"all_total:\",a[0][3]+a[1][3]+a[2][3])\n",
    "    \n",
    "    \n",
    "\n"
   ]
  }
 ],
 "metadata": {
  "kernelspec": {
   "display_name": "Python 3",
   "language": "python",
   "name": "python3"
  },
  "language_info": {
   "codemirror_mode": {
    "name": "ipython",
    "version": 3
   },
   "file_extension": ".py",
   "mimetype": "text/x-python",
   "name": "python",
   "nbconvert_exporter": "python",
   "pygments_lexer": "ipython3",
   "version": "3.8.5"
  }
 },
 "nbformat": 4,
 "nbformat_minor": 4
}
