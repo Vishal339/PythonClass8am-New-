{
 "cells": [
  {
   "cell_type": "code",
   "execution_count": null,
   "metadata": {},
   "outputs": [],
   "source": []
  },
  {
   "cell_type": "code",
   "execution_count": 4,
   "metadata": {},
   "outputs": [
    {
     "name": "stdout",
     "output_type": "stream",
     "text": [
      "This is method c\n",
      "This is method b\n",
      "This is method a\n"
     ]
    }
   ],
   "source": [
    "class A:\n",
    "    def a(self):\n",
    "        print(\"This is method a\")\n",
    "    \n",
    "class B(A):\n",
    "    def b(self):\n",
    "        print(\"This is method b\")\n",
    "        \n",
    "class C(B):\n",
    "    def c(self):\n",
    "        print(\"This is method c\")\n",
    "        \n",
    "obj = C()\n",
    "obj.c()\n",
    "obj.b()\n",
    "obj.a()\n",
    "        "
   ]
  },
  {
   "cell_type": "markdown",
   "metadata": {},
   "source": [
    "# multilevel"
   ]
  },
  {
   "cell_type": "code",
   "execution_count": 17,
   "metadata": {},
   "outputs": [
    {
     "name": "stdout",
     "output_type": "stream",
     "text": [
      "Enter name : Viishal\n",
      "Enter age : 27\n",
      "Enter adress : Tinkune\n",
      "Enter salary : 30000\n",
      "Hello Viishal, This is Hr section \n",
      "Your age is 27\n",
      "Your adress is Tinkune\n",
      "your salary is 30000 \n"
     ]
    }
   ],
   "source": [
    "\n",
    "class Data:\n",
    "    def __init__(self):\n",
    "        self.name = input(\"Enter name : \")\n",
    "        self.age = int(input(\"Enter age : \"))\n",
    "        self.address = input(\"Enter adress : \")\n",
    "        \n",
    "class Hr(Data):\n",
    "    def __init__(self):  \n",
    "        Data.__init__(self)  # to run Data class so, it doesn't through error in next line #\n",
    "        self.salary = int(input(\"Enter salary : \"))\n",
    "        \n",
    "    def hr(self):\n",
    "        print(f\"Hello {self.name}, This is Hr section \")\n",
    "        \n",
    "class Office(Hr):\n",
    "    def office(self):\n",
    "        print(f\"Your age is {self.age}\\nYour adress is {self.address}\\nyour salary is {self.salary} \")\n",
    "        \n",
    "obj = Office()\n",
    "obj.hr()\n",
    "obj.office()\n",
    "    "
   ]
  },
  {
   "cell_type": "markdown",
   "metadata": {},
   "source": [
    "# Multiple"
   ]
  },
  {
   "cell_type": "code",
   "execution_count": 2,
   "metadata": {},
   "outputs": [
    {
     "name": "stdout",
     "output_type": "stream",
     "text": [
      "Enter name : Vishal\n",
      "Enter age : 27\n",
      "Enter adress : Tinkune\n",
      "Enter salary : 30000\n",
      "Hello Vishal, This is Hr section \n",
      "Your age is 27\n",
      "Your adress is Tinkune\n",
      "your salary is 30000 \n"
     ]
    }
   ],
   "source": [
    "\n",
    "class Data:\n",
    "    def __init__(self):\n",
    "        self.name = input(\"Enter name : \")\n",
    "        self.age = int(input(\"Enter age : \"))\n",
    "        self.address = input(\"Enter adress : \")\n",
    "        \n",
    "class Hr:\n",
    "    def __init__(self):  \n",
    "        self.salary = int(input(\"Enter salary : \"))\n",
    "        \n",
    "    def hr(self):\n",
    "        print(f\"Hello {self.name}, This is Hr section \")\n",
    "        \n",
    "class Office(Data,Hr):\n",
    "    def __init__(self):\n",
    "        Data.__init__(self)  # need to call parent class methods, so it doesn't throw error #\n",
    "        Hr.__init__(self)\n",
    "    def office(self):\n",
    "        print(f\"Your age is {self.age}\\nYour adress is {self.address}\\nyour salary is {self.salary} \")\n",
    "        \n",
    "obj = Office()\n",
    "obj.hr()\n",
    "obj.office()\n",
    "    "
   ]
  },
  {
   "cell_type": "code",
   "execution_count": null,
   "metadata": {},
   "outputs": [],
   "source": [
    "class Person:\n",
    "    "
   ]
  },
  {
   "cell_type": "markdown",
   "metadata": {},
   "source": [
    "# public attributes"
   ]
  },
  {
   "cell_type": "code",
   "execution_count": 5,
   "metadata": {},
   "outputs": [
    {
     "name": "stdout",
     "output_type": "stream",
     "text": [
      "Ram\n",
      "27\n",
      "Tinkune\n"
     ]
    }
   ],
   "source": [
    "class Info:\n",
    "    def __init__(self,name,age,add):\n",
    "        self.name = name\n",
    "        self.age = age\n",
    "        self.add = add\n",
    "        \n",
    "obj = Info(\"Ram\",27,\"Tinkune\")\n",
    "print(obj.name)\n",
    "print(obj.age)\n",
    "print(obj.add)\n"
   ]
  },
  {
   "cell_type": "markdown",
   "metadata": {},
   "source": [
    "# Protected attributes "
   ]
  },
  {
   "cell_type": "code",
   "execution_count": 6,
   "metadata": {},
   "outputs": [
    {
     "name": "stdout",
     "output_type": "stream",
     "text": [
      "Ram\n",
      "27\n",
      "Tinkune\n"
     ]
    }
   ],
   "source": [
    "class Info:\n",
    "    def __init__(self,name,age,add):\n",
    "        self._name = name\n",
    "        self._age = age\n",
    "        self._add = add\n",
    "        \n",
    "obj = Info(\"Ram\",27,\"Tinkune\")\n",
    "print(obj._name)\n",
    "print(obj._age)\n",
    "print(obj._add)"
   ]
  },
  {
   "cell_type": "markdown",
   "metadata": {},
   "source": [
    "# private attributes (use for debugging)"
   ]
  },
  {
   "cell_type": "code",
   "execution_count": 7,
   "metadata": {},
   "outputs": [
    {
     "ename": "AttributeError",
     "evalue": "'Info' object has no attribute '__name'",
     "output_type": "error",
     "traceback": [
      "\u001b[1;31m---------------------------------------------------------------------------\u001b[0m",
      "\u001b[1;31mAttributeError\u001b[0m                            Traceback (most recent call last)",
      "\u001b[1;32m<ipython-input-7-52429b05a69e>\u001b[0m in \u001b[0;36m<module>\u001b[1;34m\u001b[0m\n\u001b[0;32m      6\u001b[0m \u001b[1;33m\u001b[0m\u001b[0m\n\u001b[0;32m      7\u001b[0m \u001b[0mobj\u001b[0m \u001b[1;33m=\u001b[0m \u001b[0mInfo\u001b[0m\u001b[1;33m(\u001b[0m\u001b[1;34m\"Ram\"\u001b[0m\u001b[1;33m,\u001b[0m\u001b[1;36m27\u001b[0m\u001b[1;33m,\u001b[0m\u001b[1;34m\"Tinkune\"\u001b[0m\u001b[1;33m)\u001b[0m\u001b[1;33m\u001b[0m\u001b[1;33m\u001b[0m\u001b[0m\n\u001b[1;32m----> 8\u001b[1;33m \u001b[0mprint\u001b[0m\u001b[1;33m(\u001b[0m\u001b[0mobj\u001b[0m\u001b[1;33m.\u001b[0m\u001b[0m__name\u001b[0m\u001b[1;33m)\u001b[0m\u001b[1;33m\u001b[0m\u001b[1;33m\u001b[0m\u001b[0m\n\u001b[0m\u001b[0;32m      9\u001b[0m \u001b[0mprint\u001b[0m\u001b[1;33m(\u001b[0m\u001b[0mobj\u001b[0m\u001b[1;33m.\u001b[0m\u001b[0m__age\u001b[0m\u001b[1;33m)\u001b[0m\u001b[1;33m\u001b[0m\u001b[1;33m\u001b[0m\u001b[0m\n\u001b[0;32m     10\u001b[0m \u001b[0mprint\u001b[0m\u001b[1;33m(\u001b[0m\u001b[0mobj\u001b[0m\u001b[1;33m.\u001b[0m\u001b[0m__add\u001b[0m\u001b[1;33m)\u001b[0m\u001b[1;33m\u001b[0m\u001b[1;33m\u001b[0m\u001b[0m\n",
      "\u001b[1;31mAttributeError\u001b[0m: 'Info' object has no attribute '__name'"
     ]
    }
   ],
   "source": [
    "class Info:\n",
    "    def __init__(self,name,age,add):\n",
    "        self.__name = name\n",
    "        self.__age = age\n",
    "        self.__add = add\n",
    "        \n",
    "obj = Info(\"Ram\",27,\"Tinkune\")\n",
    "print(obj.__name)\n",
    "print(obj.__age)\n",
    "print(obj.__add)"
   ]
  },
  {
   "cell_type": "markdown",
   "metadata": {},
   "source": [
    "# use for debugging while calling private class from outside\n",
    "# Acessing private data from outside is not a good way..."
   ]
  },
  {
   "cell_type": "code",
   "execution_count": 10,
   "metadata": {},
   "outputs": [
    {
     "name": "stdout",
     "output_type": "stream",
     "text": [
      "Ram\n",
      "27\n",
      "Tinkune\n"
     ]
    }
   ],
   "source": [
    "class Info:\n",
    "    def __init__(self,name,age,add):\n",
    "        self.__name = name\n",
    "        self.__age = age\n",
    "        self.__add = add\n",
    "        \n",
    "obj = Info(\"Ram\",27,\"Tinkune\")\n",
    "print(obj._Info__name)\n",
    "print(obj._Info__age)\n",
    "print(obj._Info__add)"
   ]
  },
  {
   "cell_type": "code",
   "execution_count": 11,
   "metadata": {},
   "outputs": [
    {
     "name": "stdout",
     "output_type": "stream",
     "text": [
      "Enter name : RAm\n",
      "Enter age : 27\n",
      "Enter adress : Tinkune\n",
      "Enter salary : 30000\n",
      "Hello RAm, This is Hr section \n",
      "Your age is 27\n",
      "Your adress is Tinkune\n",
      "your salary is 30000 \n"
     ]
    }
   ],
   "source": [
    "\n",
    "class Data:\n",
    "    def __init__(self):\n",
    "        self.name = input(\"Enter name : \")\n",
    "        self._age = int(input(\"Enter age : \"))\n",
    "        self.__address = input(\"Enter adress : \")\n",
    "        \n",
    "class Hr:\n",
    "    def __init__(self):  \n",
    "        self.salary = int(input(\"Enter salary : \"))\n",
    "        \n",
    "    def hr(self):\n",
    "        print(f\"Hello {self.name}, This is Hr section \")\n",
    "        \n",
    "class Office(Data,Hr):\n",
    "    def __init__(self):\n",
    "        Data.__init__(self)  # need to call parent class methods, so it doesn't throw error #\n",
    "        Hr.__init__(self)\n",
    "    def office(self):\n",
    "        print(f\"Your age is {self._age}\\nYour adress is {self._Data__address}\\nyour salary is {self.salary} \")\n",
    "        \n",
    "obj = Office()\n",
    "obj.hr()\n",
    "obj.office()\n",
    "    "
   ]
  },
  {
   "cell_type": "code",
   "execution_count": 13,
   "metadata": {},
   "outputs": [
    {
     "name": "stdout",
     "output_type": "stream",
     "text": [
      "Enter name : Vishal\n",
      "Enter age : 27\n",
      "Enter adress : Tinkune\n",
      "Enter salary : 30000\n",
      "Hello Vishal, This is Hr section \n",
      "Your age is 27\n",
      "Your adress is Tinkune\n",
      "your salary is 30000 \n"
     ]
    }
   ],
   "source": [
    "class Data:\n",
    "    def __init__(self):\n",
    "        self.name = input(\"Enter name : \")\n",
    "        self._age = int(input(\"Enter age : \"))\n",
    "        self.__address = input(\"Enter adress : \")\n",
    "    def add(self):\n",
    "        return self.__address\n",
    "        \n",
    "class Hr:\n",
    "    def __init__(self):  \n",
    "        self.salary = int(input(\"Enter salary : \"))\n",
    "        \n",
    "    def hr(self):\n",
    "        print(f\"Hello {self.name}, This is Hr section \")\n",
    "        \n",
    "class Office(Data,Hr):\n",
    "    def __init__(self):\n",
    "        Data.__init__(self)  # need to call parent class methods, so it doesn't throw error #\n",
    "        Hr.__init__(self)\n",
    "    def office(self):\n",
    "        print(f\"Your age is {self._age}\\nYour adress is {super().add()}\\nyour salary is {self.salary} \")\n",
    "        \n",
    "obj = Office()\n",
    "obj.hr()\n",
    "obj.office()\n",
    "    "
   ]
  }
 ],
 "metadata": {
  "kernelspec": {
   "display_name": "Python 3",
   "language": "python",
   "name": "python3"
  },
  "language_info": {
   "codemirror_mode": {
    "name": "ipython",
    "version": 3
   },
   "file_extension": ".py",
   "mimetype": "text/x-python",
   "name": "python",
   "nbconvert_exporter": "python",
   "pygments_lexer": "ipython3",
   "version": "3.8.5"
  }
 },
 "nbformat": 4,
 "nbformat_minor": 4
}
