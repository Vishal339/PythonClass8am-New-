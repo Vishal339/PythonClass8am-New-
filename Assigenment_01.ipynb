{
 "cells": [
  {
   "cell_type": "code",
   "execution_count": 34,
   "metadata": {
    "colab": {
     "base_uri": "https://localhost:8080/"
    },
    "id": "VGFFyktZMEw3",
    "outputId": "dd154128-d305-4933-e072-d9a74300d926"
   },
   "outputs": [
    {
     "name": "stdout",
     "output_type": "stream",
     "text": [
      "Enter the lowest interval: 1\n",
      "Enter the upper interval: 20\n",
      "Prime numbers between Interval 1 & 20 are:\n",
      "2  3  5  7  11  13  17  19  "
     ]
    }
   ],
   "source": [
    "#Prime numbers in given interval\n",
    "\n",
    "s = int(input(\"Enter the lowest interval: \"))\n",
    "e = int(input(\"Enter the upper interval: \"))\n",
    "print(\"Prime numbers between Interval\", s, \"&\",e,\"are:\")\n",
    "for n in range(s,e+1):\n",
    "    flag = 0\n",
    "    for i in range(2,(n//2)+1): #  for i in range(2,n): but it increase runtime\n",
    "      if (n%i)==0:\n",
    "            flag = 1\n",
    "            break\n",
    "\n",
    "    if flag == 0 and n != 1 :\n",
    "        print(n, end = '  ')\n"
   ]
  },
  {
   "cell_type": "code",
   "execution_count": 35,
   "metadata": {
    "colab": {
     "base_uri": "https://localhost:8080/"
    },
    "id": "x-yKWwb4rD8m",
    "outputId": "3f3acb96-b569-442c-9355-02390f45fb14"
   },
   "outputs": [
    {
     "name": "stdout",
     "output_type": "stream",
     "text": [
      "Enter the lowest interval: 1\n",
      "Enter the upper interval: 20\n",
      "Compositive numbers between Interval 1 & 20 are:\n",
      "4  6  8  9  10  12  14  15  16  18  20  "
     ]
    }
   ],
   "source": [
    "#Compositive numbers in given interval\n",
    "\n",
    "s = int(input(\"Enter the lowest interval: \"))\n",
    "e = int(input(\"Enter the upper interval: \"))\n",
    "print(\"Compositive numbers between Interval\", s, \"&\",e,\"are:\")\n",
    "for n in range(s,e+1):\n",
    "    flag = 0\n",
    "    for i in range(2,(n//2)+1): #  for i in range(2,n): but it increase runtime\n",
    "      if (n%i)==0:\n",
    "            flag = 1\n",
    "            break\n",
    "\n",
    "    if flag != 0 and n != 1 :\n",
    "        print(n, end = '  ')\n",
    "\n",
    "   \n",
    "    "
   ]
  },
  {
   "cell_type": "code",
   "execution_count": null,
   "metadata": {
    "colab": {
     "base_uri": "https://localhost:8080/"
    },
    "id": "F-yyYsaKW2nl",
    "outputId": "43e4415b-5942-4eb0-f281-e7d705ae19f6"
   },
   "outputs": [
    {
     "name": "stdout",
     "output_type": "stream",
     "text": [
      "Enter a Natural number: 5\n",
      "5  is  a Prime Number \n"
     ]
    }
   ],
   "source": [
    "# To check the Entered number is Prime Number Or Cpompositive Number\n",
    "\n",
    "num = int(input(\"Enter a Natural number: \"))\n",
    "if num == 0:\n",
    "  print(\" 0 is not a Natural number \")\n",
    "elif num == 1:\n",
    "  print(\" 1 is neither a Prime Number nor a Compositive Number \")\n",
    "else:\n",
    "  for i in range(2,(num//2)+1):\n",
    "    if (num%i) == 0:\n",
    "      print(num,\" is  a Compositive Number \")\n",
    "      break\n",
    "  else:\n",
    "    print(num,\" is  a Prime Number \")\n",
    "\n",
    "\n",
    "\n"
   ]
  },
  {
   "cell_type": "code",
   "execution_count": null,
   "metadata": {
    "colab": {
     "base_uri": "https://localhost:8080/"
    },
    "id": "rPLbLHDzbzW4",
    "outputId": "f68a3c8f-d63d-43a5-ed6b-ab19cc412d58"
   },
   "outputs": [
    {
     "name": "stdout",
     "output_type": "stream",
     "text": [
      "Enter the nth term of the series: 20\n",
      "0\n",
      "1\n",
      "1\n",
      "2\n",
      "3\n",
      "5\n",
      "8\n",
      "13\n",
      "21\n",
      "34\n",
      "55\n",
      "89\n",
      "144\n",
      "233\n",
      "377\n",
      "610\n",
      "987\n",
      "1597\n",
      "2584\n",
      "4181\n"
     ]
    }
   ],
   "source": [
    "#Fibonacci Series\n",
    "\n",
    "n = int(input(\"Enter the nth term of the series: \"))\n",
    "a = 0\n",
    "b = 1\n",
    "for i in range(n):\n",
    "  print(a)\n",
    "  temp = a\n",
    "  a = b\n",
    "  b = temp+a\n"
   ]
  }
 ],
 "metadata": {
  "colab": {
   "name": "Assigenment_01.ipynb",
   "provenance": []
  },
  "kernelspec": {
   "display_name": "Python 3",
   "language": "python",
   "name": "python3"
  },
  "language_info": {
   "codemirror_mode": {
    "name": "ipython",
    "version": 3
   },
   "file_extension": ".py",
   "mimetype": "text/x-python",
   "name": "python",
   "nbconvert_exporter": "python",
   "pygments_lexer": "ipython3",
   "version": "3.8.5"
  }
 },
 "nbformat": 4,
 "nbformat_minor": 1
}
