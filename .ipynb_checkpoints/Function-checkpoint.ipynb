{
 "cells": [
  {
   "cell_type": "code",
   "execution_count": 1,
   "metadata": {},
   "outputs": [],
   "source": [
    "# Function (print() type() str()  list() tuple() dict()...etc.)\n",
    "# Syntax\n",
    "# def <function_name>():\n",
    "#     <operations>\n",
    "# <function>"
   ]
  },
  {
   "cell_type": "code",
   "execution_count": 2,
   "metadata": {},
   "outputs": [
    {
     "name": "stdout",
     "output_type": "stream",
     "text": [
      "Hello World\n"
     ]
    }
   ],
   "source": [
    "def hello(): # define the function\n",
    "    print(\"Hello World\") # define operation in function\n",
    "hello() # call the function"
   ]
  },
  {
   "cell_type": "code",
   "execution_count": 4,
   "metadata": {},
   "outputs": [
    {
     "name": "stdout",
     "output_type": "stream",
     "text": [
      "Enter the value of l= 10\n",
      "Enter the value of b= 2\n",
      "Enter the value of h= 3\n",
      "The volume is =  60\n"
     ]
    }
   ],
   "source": [
    "def cal():\n",
    "    l = int(input(\"Enter the value of l= \")) # local variable (indentaion matters )\n",
    "    b = int(input(\"Enter the value of b= \")) # local variable  (can be used in the particular def function)\n",
    "    h = int(input(\"Enter the value of h= \")) # local variable\n",
    "    v = l*b*h\n",
    "    print(\"The volume is = \",v)\n",
    "    \n",
    "cal()\n",
    "\n",
    "    "
   ]
  },
  {
   "cell_type": "code",
   "execution_count": 6,
   "metadata": {},
   "outputs": [
    {
     "name": "stdout",
     "output_type": "stream",
     "text": [
      "Enter the value of l= 10\n",
      "Enter the value of b= 2\n",
      "Enter the value of h= 3\n",
      "The Area is =  20\n",
      "The volume is =  60\n"
     ]
    }
   ],
   "source": [
    "# using global variable in diffrent functions\n",
    "\n",
    "l = int(input(\"Enter the value of l= \")) # global variable (can use by any functio as well as in any other operations)\n",
    "b = int(input(\"Enter the value of b= \")) # global variable\n",
    "h = int(input(\"Enter the value of h= \")) # global variable\n",
    "\n",
    "def volume():\n",
    "    v = l*b*h\n",
    "    print(\"The volume is = \",v)\n",
    "    \n",
    "def area():\n",
    "    a = l*b\n",
    "    print(\"The Area is = \",a)\n",
    "    \n",
    "area()\n",
    "volume()\n"
   ]
  },
  {
   "cell_type": "code",
   "execution_count": 7,
   "metadata": {},
   "outputs": [
    {
     "name": "stdout",
     "output_type": "stream",
     "text": [
      "Enter the value of n = 3\n",
      "Enter p = 1\n",
      "Enter t = 2\n",
      "Enter r = 3\n",
      "Tne intrest i is 6.0\n",
      "Enter p = 4\n",
      "Enter t = 5\n",
      "Enter r = 6\n",
      "Tne intrest i is 120.0\n",
      "Enter p = 7\n",
      "Enter t = 8\n",
      "Enter r = 9\n",
      "Tne intrest i is 504.0\n"
     ]
    }
   ],
   "source": [
    "# calling function multiple times\n",
    "# function without argumrnt and no return type\n",
    "\n",
    "def cal():\n",
    "    p = float(input(\"Enter p = \"))\n",
    "    t = float(input(\"Enter t = \"))\n",
    "    r = float(input(\"Enter r = \"))\n",
    "    i = p*t*r\n",
    "    print(\"Tne intrest i is\",i)\n",
    "    \n",
    "n = int(input(\"Enter the value of n = \"))\n",
    "for i in range(n):\n",
    "    cal()\n",
    "    "
   ]
  },
  {
   "cell_type": "markdown",
   "metadata": {},
   "source": [
    "# function type:\n",
    " # function without argumrnt and no return type\n",
    " # function with argumrnt and no return type\n",
    " # function without argumrnt and return type\n",
    " # function with argumrnt and no return type"
   ]
  },
  {
   "cell_type": "code",
   "execution_count": 8,
   "metadata": {},
   "outputs": [
    {
     "name": "stdout",
     "output_type": "stream",
     "text": [
      "Hello World\n"
     ]
    }
   ],
   "source": [
    "def hello(x): \n",
    "    # x = \"Hello World\"\n",
    "    print(x) \n",
    "hello(\"Hello World\") "
   ]
  },
  {
   "cell_type": "code",
   "execution_count": 10,
   "metadata": {},
   "outputs": [
    {
     "name": "stdout",
     "output_type": "stream",
     "text": [
      "20\n"
     ]
    }
   ],
   "source": [
    "def area(l,b): \n",
    "    a = l*b\n",
    "    print(a) \n",
    "area(10,2) "
   ]
  },
  {
   "cell_type": "code",
   "execution_count": null,
   "metadata": {},
   "outputs": [],
   "source": [
    "def area(x,y): \n",
    "    a = x*y\n",
    "    print(a)\n",
    "l = int(input(\"Enter the value of l= \")) # global varable\n",
    "b = int(input(\"Enter the value of b= \"))\n",
    "area(l,b) "
   ]
  },
  {
   "cell_type": "code",
   "execution_count": 13,
   "metadata": {},
   "outputs": [
    {
     "name": "stdout",
     "output_type": "stream",
     "text": [
      "Enter the value of l= 10\n",
      "Enter the value of b= 2\n",
      "20\n",
      "Enter the value of h= 3\n",
      "60\n"
     ]
    }
   ],
   "source": [
    "def area(x,y): \n",
    "    a = x*y\n",
    "    print(a)\n",
    "l = int(input(\"Enter the value of l= \")) # global varable\n",
    "b = int(input(\"Enter the value of b= \"))\n",
    "area(l,b) \n",
    "\n",
    "def volume(x,y,z):\n",
    "    v = x*y*z\n",
    "    print(v)\n",
    "h = int(input(\"Enter the value of h= \"))\n",
    "    \n",
    "volume(l,b,h)\n",
    "    "
   ]
  },
  {
   "cell_type": "code",
   "execution_count": 14,
   "metadata": {},
   "outputs": [
    {
     "name": "stdout",
     "output_type": "stream",
     "text": [
      "C++\n",
      "C#\n",
      "Java\n",
      "python\n"
     ]
    }
   ],
   "source": [
    "# default value problem\n",
    "\n",
    "def language(lan = \"python\"):\n",
    "    print(lan)\n",
    "    \n",
    "language(\"C++\")  \n",
    "language(\"C#\") \n",
    "language(\"Java\") \n",
    "language() \n",
    "    \n"
   ]
  },
  {
   "cell_type": "code",
   "execution_count": 15,
   "metadata": {},
   "outputs": [
    {
     "name": "stdout",
     "output_type": "stream",
     "text": [
      "a = 2\n",
      "b = 3\n",
      "Enter operator + - * /*\n",
      "6.0\n"
     ]
    }
   ],
   "source": [
    "# calculatour using function\n",
    "# using if-else condition\n",
    "\n",
    "def cal(x,y,z):\n",
    "    if z == \"+\":\n",
    "        print(x+y)\n",
    "    elif z == \"-\":\n",
    "        print(x+y)\n",
    "    elif z == \"*\":\n",
    "        print(x*y)\n",
    "    elif z == \"/\":\n",
    "        print(x/y)\n",
    "    else:\n",
    "        print(\"Invalid operator\")\n",
    "a = float(input(\"a = \"))\n",
    "b = float(input(\"b = \"))\n",
    "o = input(\"Enter operator + - * /\")\n",
    "cal(a,b,o)\n"
   ]
  },
  {
   "cell_type": "code",
   "execution_count": null,
   "metadata": {},
   "outputs": [],
   "source": [
    "def cal(x,y,z):\n",
    "    for i in z:\n",
    "        if i \n",
    "        \n",
    "a = float(input(\"a = \"))\n",
    "b = float(input(\"b = \"))\n",
    "o = input(\"Enter operator + - * /\")\n",
    "cal(a,b,o)\n"
   ]
  },
  {
   "cell_type": "code",
   "execution_count": null,
   "metadata": {},
   "outputs": [],
   "source": []
  },
  {
   "cell_type": "code",
   "execution_count": null,
   "metadata": {},
   "outputs": [],
   "source": []
  }
 ],
 "metadata": {
  "kernelspec": {
   "display_name": "Python 3",
   "language": "python",
   "name": "python3"
  },
  "language_info": {
   "codemirror_mode": {
    "name": "ipython",
    "version": 3
   },
   "file_extension": ".py",
   "mimetype": "text/x-python",
   "name": "python",
   "nbconvert_exporter": "python",
   "pygments_lexer": "ipython3",
   "version": "3.8.5"
  }
 },
 "nbformat": 4,
 "nbformat_minor": 4
}
