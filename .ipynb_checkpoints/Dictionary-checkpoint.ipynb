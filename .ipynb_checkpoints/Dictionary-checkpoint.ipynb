{
 "cells": [
  {
   "cell_type": "code",
   "execution_count": 1,
   "metadata": {},
   "outputs": [],
   "source": [
    "# dict\n",
    "# -indexing\n",
    "# -orderd\n",
    "# -Can have duplicate values\n",
    "# -mutable\n",
    "# -defined by {} brackets"
   ]
  },
  {
   "cell_type": "code",
   "execution_count": 2,
   "metadata": {},
   "outputs": [
    {
     "data": {
      "text/plain": [
       "dict"
      ]
     },
     "execution_count": 2,
     "metadata": {},
     "output_type": "execute_result"
    }
   ],
   "source": [
    "a = {}\n",
    "type(a)\n"
   ]
  },
  {
   "cell_type": "code",
   "execution_count": 6,
   "metadata": {},
   "outputs": [
    {
     "name": "stdout",
     "output_type": "stream",
     "text": [
      "{'a': 'apple', 'b': 'ball'}\n",
      "{1: 'apple', 2: 'ball'}\n",
      "apple\n",
      "apple\n"
     ]
    }
   ],
   "source": [
    "# Syantax \n",
    "# a = {<key>:<values>,<key>:<values>}\n",
    "\n",
    "dic_a = {\"a\":\"apple\",\"b\":\"ball\"}\n",
    "dic_b = {1:\"apple\",2:\"ball\"}     \n",
    "print(dic_a)\n",
    "print(dic_b)\n",
    "print(dic_a[\"a\"])\n",
    "print(dic_b[1])"
   ]
  },
  {
   "cell_type": "code",
   "execution_count": 9,
   "metadata": {},
   "outputs": [
    {
     "name": "stdout",
     "output_type": "stream",
     "text": [
      "{'a': 'apple', 'b': 'ball', 'A': 'ball'}\n",
      "{'a': 'ball', 'b': 'ball'}\n",
      "{'a': 'apple', 'b': 'ball', 'A': 'apple'}\n",
      "{'a': 'apple', 'b': 'ball'}\n"
     ]
    }
   ],
   "source": [
    "# Can have multiple values but not Same key/index\n",
    "a = {\"a\":\"apple\",\"b\":\"ball\",\"A\":\"ball\"}\n",
    "b = {\"a\":\"apple\",\"b\":\"ball\",\"a\":\"ball\"}  # VAlues of same index get updated with the end value\n",
    "c = {\"a\":\"apple\",\"b\":\"ball\",\"A\":\"apple\"}\n",
    "d = {\"a\":\"apple\",\"b\":\"ball\",\"a\":\"apple\"}\n",
    "print(a)\n",
    "print(b)\n",
    "print(c)\n",
    "print(d)"
   ]
  },
  {
   "cell_type": "code",
   "execution_count": 11,
   "metadata": {},
   "outputs": [
    {
     "name": "stdout",
     "output_type": "stream",
     "text": [
      "{1: 'ant'}\n"
     ]
    }
   ],
   "source": [
    "# VAlues of same index get updated with the end value\n",
    "a ={1:\"apple\"}\n",
    "a[1] = \"ant\"\n",
    "print(a)"
   ]
  },
  {
   "cell_type": "code",
   "execution_count": 13,
   "metadata": {},
   "outputs": [
    {
     "name": "stdout",
     "output_type": "stream",
     "text": [
      "{'ram': 9676747548, 'shyam': 9676747548, 'amar': 9676747548}\n"
     ]
    }
   ],
   "source": [
    "# Adding key and values to the dict a.\n",
    "a ={}\n",
    "a[\"ram\"] = 9676747548\n",
    "a[\"shyam\"] = 9676747548\n",
    "a[\"amar\"] = 9676747548\n",
    "print(a)\n"
   ]
  },
  {
   "cell_type": "code",
   "execution_count": null,
   "metadata": {},
   "outputs": [],
   "source": [
    "# To create dict feeding users data (writing data)\n",
    "d = {}\n",
    "n = int(input(\"enter n = \"))\n",
    "for i in range(n):\n",
    "    name = input(\"Enter name= \")\n",
    "    phone = int(input(\"Enter phone= \"))\n",
    "    d[name] = phone\n",
    "print(d)"
   ]
  },
  {
   "cell_type": "code",
   "execution_count": 3,
   "metadata": {},
   "outputs": [
    {
     "name": "stdout",
     "output_type": "stream",
     "text": [
      "ram\n",
      "shyam\n",
      "amar\n",
      "9676747548\n",
      "9676747548\n",
      "9676747548\n",
      "('ram', 9676747548)\n",
      "('shyam', 9676747548)\n",
      "('amar', 9676747548)\n"
     ]
    }
   ],
   "source": [
    "d = {'ram': 9676747548, 'shyam': 9676747548, 'amar': 9676747548}\n",
    "for i in d:    # to see the key\n",
    "    print(i)\n",
    "for i in d.values():  # to see the values\n",
    "    print(i)\n",
    "for i in d.items():  # to see the key & values [in tuples always] \n",
    "    print(i)\n",
    "    "
   ]
  },
  {
   "cell_type": "code",
   "execution_count": 3,
   "metadata": {},
   "outputs": [
    {
     "name": "stdout",
     "output_type": "stream",
     "text": [
      "[('ram', 9676747548), ('shyam', 9676747548), ('amar', 9676747548)]\n"
     ]
    }
   ],
   "source": [
    "# To convert d dictionary into tuples in list\n",
    "\n",
    "z = []\n",
    "d = {'ram': 9676747548, 'shyam': 9676747548, 'amar': 9676747548}\n",
    "for i in d.items():\n",
    "    z.append(i)\n",
    "print(z)"
   ]
  },
  {
   "cell_type": "code",
   "execution_count": 4,
   "metadata": {},
   "outputs": [
    {
     "name": "stdout",
     "output_type": "stream",
     "text": [
      "{'ram': 9676747548, 'shyam': 9676747548, 'amar': 9676747548}\n"
     ]
    }
   ],
   "source": [
    "# To convert tuples in list back into d dictionary\n",
    "\n",
    "d = {}\n",
    "z = [('ram', 9676747548), ('shyam', 9676747548), ('amar', 9676747548)]\n",
    "for i in z:\n",
    "    key = i[0]\n",
    "    value = i[1]\n",
    "    d[key] = value\n",
    "print(d)"
   ]
  },
  {
   "cell_type": "code",
   "execution_count": 5,
   "metadata": {},
   "outputs": [
    {
     "name": "stdout",
     "output_type": "stream",
     "text": [
      "{('a', 'A'): 'apple'}\n"
     ]
    }
   ],
   "source": [
    "# key value in dict can oly have imutable data type like tuple\n",
    "# to store multiple unique keys in tuple form\n",
    "\n",
    "d ={(\"a\",\"A\"):\"apple\"}\n",
    "print(d)\n"
   ]
  },
  {
   "cell_type": "code",
   "execution_count": 7,
   "metadata": {},
   "outputs": [
    {
     "name": "stdout",
     "output_type": "stream",
     "text": [
      "{'Ram': [9975367, 98876756434], 'Shyam': [654342334, 65434]}\n"
     ]
    }
   ],
   "source": [
    "# list inside dictionary\n",
    "#  use to store multiple values in list form\n",
    "\n",
    "d = {\"Ram\":[9975367,98876756434],\"Shyam\":[654342334,65434]}\n",
    "print(d)\n"
   ]
  },
  {
   "cell_type": "code",
   "execution_count": 1,
   "metadata": {},
   "outputs": [
    {
     "name": "stdout",
     "output_type": "stream",
     "text": [
      "Enter name: Ram\n",
      "Enter 0 for ntc & 1 for ncell ph. no : 1\n",
      "98876756434\n"
     ]
    }
   ],
   "source": [
    "# to see the one value at index 0-1 with key\n",
    "\n",
    "d = {'Ram': [9975367, 98876756434], 'Shyam': [654342334, 65434]}\n",
    "name = input(\"Enter name: \")\n",
    "phone = int(input(\"Enter 0 for ntc & 1 for ncell ph. no : \"))\n",
    "print(d[name][phone])"
   ]
  },
  {
   "cell_type": "markdown",
   "metadata": {},
   "source": [
    "# Dictionary Methods\n",
    " Consider the following dictionary,\n",
    "1. keys() : returns a list containing dictionary’s keys. \n",
    "2. value() : returns a list containing dictionary’s key's values.\n",
    "3. items() : returns a list of (key,value) tuple.    \n",
    "3. update({“friend”: “Sam”}) : updates the dictionary with supplied key-value pairs.\n",
    "4. get(“name”) : returns the value of the specified keys (and value is returned e.g. “Harry” is returned here)"
   ]
  },
  {
   "cell_type": "code",
   "execution_count": 4,
   "metadata": {},
   "outputs": [
    {
     "name": "stdout",
     "output_type": "stream",
     "text": [
      "{'Ram': [9975367, 9807292229], 'Shyam': [654342334, 65434]}\n",
      "{'Ram': [9975367], 'Shyam': [654342334, 65434]}\n",
      "{'Ram': [9975367, 9807292229], 'Shyam': [654342334, 65434]}\n",
      "{'Ram': [9807292229, 9975367, 9807292229], 'Shyam': [654342334, 65434]}\n"
     ]
    }
   ],
   "source": [
    "# to change or update the values\n",
    "\n",
    "d = {'Ram': [9975367, 98876756434], 'Shyam': [654342334, 65434]}\n",
    "d[\"Ram\"][1] = 9807292229 # to change the value at index 1.\n",
    "print(d)\n",
    "del  d[\"Ram\"][1]  # to delete the value of index = 1.\n",
    "print(d)\n",
    "d[\"Ram\"].append(9807292229) # To insert value at the end.\n",
    "print(d)\n",
    "d[\"Ram\"].insert(0,9807292229)  # To insert value at desired index/places.\n",
    "print(d)\n",
    "\n"
   ]
  },
  {
   "cell_type": "code",
   "execution_count": 5,
   "metadata": {},
   "outputs": [
    {
     "name": "stdout",
     "output_type": "stream",
     "text": [
      "Data exists\n",
      "Data was not found\n"
     ]
    }
   ],
   "source": [
    "# search\n",
    "d = {'Ram': [9975367, 9807292229], 'Shyam': [654342334, 65434]}\n",
    "if d.get('Ram'):\n",
    "    print(\"Data exists\")\n",
    "else:\n",
    "    print(\"Data was not found\")\n",
    "    \n",
    "if 'Shyamt' in d:\n",
    "    print(\"Data exists\")\n",
    "else:\n",
    "    print(\"Data was not found\")\n",
    "\n"
   ]
  },
  {
   "cell_type": "code",
   "execution_count": 6,
   "metadata": {},
   "outputs": [
    {
     "name": "stdout",
     "output_type": "stream",
     "text": [
      "ph\n",
      "9807292229\n",
      "('Ram', [9975367, 9807292229])\n"
     ]
    }
   ],
   "source": [
    "# Search with values & print its key+values\n",
    "\n",
    "d = {'Ram': [9975367, 9807292229], 'Shyam': [654342334, 65434]}\n",
    "search = int(input(\"ph\\n\"))\n",
    "for i in d.items():\n",
    "    if search in i[1]:\n",
    "        print(i)"
   ]
  },
  {
   "cell_type": "code",
   "execution_count": 3,
   "metadata": {},
   "outputs": [
    {
     "name": "stdout",
     "output_type": "stream",
     "text": [
      "ph\n",
      "9807292229\n",
      "{'Shyam': [654342334, 65434]}\n"
     ]
    }
   ],
   "source": [
    "# del\n",
    "\n",
    "d = {'Ram': [9975367,9807292229], 'Shyam': [654342334, 65434]}\n",
    "search = int(input(\"ph\\n\"))\n",
    "for i in d.items():\n",
    "    if search in i[1]:\n",
    "        key = i[0]\n",
    "        del d[key]\n",
    "        break\n",
    "print(d)"
   ]
  },
  {
   "cell_type": "code",
   "execution_count": 9,
   "metadata": {},
   "outputs": [
    {
     "name": "stdout",
     "output_type": "stream",
     "text": [
      "<class 'dict'>\n",
      "{'Ram': {'Physics': 98, 'Chemistry': 89, 'Math': 67}, 'Shyam': {'Physics': 89, 'Chemistry': 98, 'Math': 76}}\n",
      "{'Physics': 98, 'Chemistry': 89, 'Math': 67}\n",
      "98\n"
     ]
    }
   ],
   "source": [
    "# dict inside dict\n",
    "# Syntax \n",
    "# d = {<key>:{<key>:<vlaue>,<key>:<vlaue>},\n",
    "#      <key>:{<key>:<vlaue>,<key>:<vlaue>}}\n",
    "\n",
    "d = {\"Ram\":{\"Physics\":98,\"Chemistry\":89,\"Math\":67},\n",
    "    \"Shyam\":{\"Physics\":89,\"Chemistry\":98,\"Math\":76}}\n",
    "print(type(d))\n",
    "print(d)\n",
    "print(d[\"Ram\"])\n",
    "print(d[\"Ram\"][\"Physics\"])"
   ]
  },
  {
   "cell_type": "code",
   "execution_count": 12,
   "metadata": {},
   "outputs": [
    {
     "name": "stdout",
     "output_type": "stream",
     "text": [
      "('Ram', {'Physics': 98, 'Chemistry': 89, 'Math': 67})\n",
      "('Shyam', {'Physics': 89, 'Chemistry': 98, 'Math': 76})\n"
     ]
    }
   ],
   "source": [
    "#print items\n",
    "\n",
    "d = {\"Ram\":{\"Physics\":98,\"Chemistry\":89,\"Math\":67},\n",
    "    \"Shyam\":{\"Physics\":89,\"Chemistry\":98,\"Math\":76}}\n",
    "for i in d.items():\n",
    "    print(i)"
   ]
  },
  {
   "cell_type": "code",
   "execution_count": 10,
   "metadata": {},
   "outputs": [
    {
     "name": "stdout",
     "output_type": "stream",
     "text": [
      "{'Ram': {'Physics': 89, 'Chemistry': 89, 'Math': 67}, 'Shyam': {'Physics': 89, 'Chemistry': 98, 'Math': 76}}\n"
     ]
    }
   ],
   "source": [
    "# To update the value \n",
    "\n",
    "d = {\"Ram\":{\"Physics\":98,\"Chemistry\":89,\"Math\":67},\n",
    "    \"Shyam\":{\"Physics\":89,\"Chemistry\":98,\"Math\":76}}\n",
    "d[\"Ram\"][\"Physics\"] = 89\n",
    "print(d)"
   ]
  },
  {
   "cell_type": "code",
   "execution_count": 13,
   "metadata": {},
   "outputs": [
    {
     "name": "stdout",
     "output_type": "stream",
     "text": [
      "n = 2\n",
      "name: Ram\n",
      "physics: 67\n",
      "chemistry: 78\n",
      "math: 89\n",
      "name: Shyam\n",
      "physics: 45\n",
      "chemistry: 56\n",
      "math: 67\n",
      "{'Ram': {'physics': '67', 'chemistry': '78', 'math': '89'}, 'Shyam': {'physics': '45', 'chemistry': '56', 'math': '67'}}\n"
     ]
    }
   ],
   "source": [
    "# To create dict inside dict\n",
    "\n",
    "d = {}\n",
    "n = int(input(\"n = \"))\n",
    "for i in range(n):\n",
    "    name = (input(\"name: \"))\n",
    "    physics = int(input(\"physics marks: \"))\n",
    "    chemistry = int(input(\"chemistry marks: \"))\n",
    "    math = int(input(\"math marks: \"))\n",
    "    d[name] = {\"physics\":physics,\"chemistry\":chemistry,\"math\":math}\n",
    "    \n",
    "print(d)\n",
    " "
   ]
  },
  {
   "cell_type": "code",
   "execution_count": 3,
   "metadata": {},
   "outputs": [
    {
     "name": "stdout",
     "output_type": "stream",
     "text": [
      "No. of Subjects, only 3= 3\n",
      "Enter subject :\n",
      " Physics\n",
      "Enter subject :\n",
      " Chemistry\n",
      "Enter subject :\n",
      " Math\n",
      "No. of Students = 3\n",
      "name: Ram\n",
      "Physics marks: 67\n",
      "Chemistry marks: 85\n",
      "Math marks: 90\n",
      "name: Shyam\n",
      "Physics marks: 76\n",
      "Chemistry marks: 98\n",
      "Math marks: 76\n",
      "name: Hari\n",
      "Physics marks: 23\n",
      "Chemistry marks: 45\n",
      "Math marks: 67\n",
      "{'Ram': {'Physics': 67, 'Chemistry': 85, 'Math': 90}, 'Shyam': {'Physics': 76, 'Chemistry': 98, 'Math': 76}, 'Hari': {'Physics': 23, 'Chemistry': 45, 'Math': 67}}\n"
     ]
    }
   ],
   "source": [
    "# try dynamic\n",
    "\n",
    "d = {}\n",
    "s = int(input(\"No. of Subjects, only 3= \"))\n",
    "a = tuple()\n",
    "for i in range(s):\n",
    "    sub = input(\"Enter subject :\\n \")\n",
    "    a = a+(sub,)\n",
    "n = int(input(\"No. of Students = \"))\n",
    "for j in range(n):\n",
    "    name = input(\"name: \")\n",
    "    m1 = int(input(f\"{a[0]} marks: \"))\n",
    "    m2 = int(input(f\"{a[1]} marks: \"))\n",
    "    m3 = int(input(f\"{a[2]} marks: \"))\n",
    "    d[name] = {a[0]:m1,a[1]:m2,a[2]:m3}\n",
    "    \n",
    "print(d)\n",
    "\n"
   ]
  },
  {
   "cell_type": "code",
   "execution_count": 23,
   "metadata": {},
   "outputs": [
    {
     "name": "stdout",
     "output_type": "stream",
     "text": [
      "{'Name': 'Ram', 'Phone': 9807292229}\n",
      "{'Name': 'Hari', 'Phone': 9801827314}\n",
      "{'Name': 'Ray', 'Phone': 9807342229}\n",
      "{'Name': 'Ram', 'Phone': 9807292229}\n",
      "{'Name': 'Hari', 'Phone': 9801827314}\n",
      "{'Name': 'Ray', 'Phone': 9807342229}\n"
     ]
    }
   ],
   "source": [
    "# dict inside list (use in Django)\n",
    "# Syntax\n",
    "# d = [{<key>:value},{<key>:value},{<key>:value}]\n",
    "# it follows the properties of list now\n",
    "\n",
    "\n",
    "d =[{\"Name\":\"Ram\",\"Phone\":9807292229},\n",
    "  {\"Name\":\"Hari\",\"Phone\":9801827314},\n",
    "  {\"Name\":\"Ray\",\"Phone\":9807342229}]\n",
    "print(d[0])\n",
    "print(d[1])\n",
    "print(d[2])\n",
    "\n",
    "for i in d:\n",
    "    print(i)\n",
    "    \n",
    "\n"
   ]
  },
  {
   "cell_type": "code",
   "execution_count": 25,
   "metadata": {},
   "outputs": [
    {
     "name": "stdout",
     "output_type": "stream",
     "text": [
      "[{'Name': 'Ram', 'Phone': 9807292229}, {'Name': 'Hari', 'Phone': 9801827314}, {'Name': 'Ray', 'Phone': 9807342229}, {'Name': 'Rai', 'Phone': 9805442229}]\n"
     ]
    }
   ],
   "source": [
    "d =[{\"Name\":\"Ram\",\"Phone\":9807292229},\n",
    "  {\"Name\":\"Hari\",\"Phone\":9801827314},\n",
    "  {\"Name\":\"Ray\",\"Phone\":9807342229}]\n",
    "x =  {\"Name\":\"Rai\",\"Phone\":9805442229}\n",
    "d.append(x)\n",
    "print(d)\n"
   ]
  },
  {
   "cell_type": "code",
   "execution_count": null,
   "metadata": {},
   "outputs": [],
   "source": []
  }
 ],
 "metadata": {
  "kernelspec": {
   "display_name": "Python 3",
   "language": "python",
   "name": "python3"
  },
  "language_info": {
   "codemirror_mode": {
    "name": "ipython",
    "version": 3
   },
   "file_extension": ".py",
   "mimetype": "text/x-python",
   "name": "python",
   "nbconvert_exporter": "python",
   "pygments_lexer": "ipython3",
   "version": "3.8.5"
  }
 },
 "nbformat": 4,
 "nbformat_minor": 4
}
