{
 "cells": [
  {
   "cell_type": "code",
   "execution_count": 7,
   "metadata": {},
   "outputs": [
    {
     "name": "stdout",
     "output_type": "stream",
     "text": [
      "The file already exists.\n"
     ]
    }
   ],
   "source": [
    "# file  handaling\n",
    "# Syntax\n",
    "# b = open('<file_name>','(<modes>)')\n",
    "\n",
    "# to create file\n",
    "\n",
    "try:\n",
    "    b = open('class8am.txt','x')   # create file\n",
    "except:                             # if this code runs more than one tine it shows error\n",
    "    print(\"The file already exists.\") # so we use exception handling for bug fixing\n",
    "b.close()    # need to close file after action is completed"
   ]
  },
  {
   "cell_type": "code",
   "execution_count": 13,
   "metadata": {},
   "outputs": [
    {
     "name": "stdout",
     "output_type": "stream",
     "text": [
      "<class 'str'>\n",
      "1 . hello world\n",
      "2. hello world\n",
      "\n"
     ]
    }
   ],
   "source": [
    "# to read file\n",
    "\n",
    "b = open('class8am.txt','r')\n",
    "c = b.read()\n",
    "print(type(c)) # string type\n",
    "print(c)\n",
    "b.close()"
   ]
  },
  {
   "cell_type": "code",
   "execution_count": 14,
   "metadata": {},
   "outputs": [],
   "source": [
    "b = open('class8am.txt','w')\n",
    "b.write('3. hello world')\n",
    "b.close()"
   ]
  },
  {
   "cell_type": "code",
   "execution_count": 16,
   "metadata": {},
   "outputs": [
    {
     "name": "stdout",
     "output_type": "stream",
     "text": [
      "n = 2\n",
      "Enter name: Ram\n",
      "enter age: 23\n",
      "Enter add: bjl\n",
      "Enter name: Shyam\n",
      "enter age: 43\n",
      "Enter add: khgfliu;lk\n"
     ]
    }
   ],
   "source": [
    "s = \"\"\n",
    "n = int(input(\"n = \"))\n",
    "for i in range(n):\n",
    "    name = input(\"Enter name: \")\n",
    "    age = int(input(\"enter age: \"))\n",
    "    add = input(\"Enter add: \")\n",
    "    info = f\"{name} {age} {add}\\n\"\n",
    "    s = s+info\n",
    "    \n",
    "b = open('data.txt','a')\n",
    "b.write(s)\n",
    "b.close()"
   ]
  },
  {
   "cell_type": "code",
   "execution_count": 21,
   "metadata": {},
   "outputs": [
    {
     "name": "stdout",
     "output_type": "stream",
     "text": [
      "n = 2\n",
      "Enter name: Hari\n",
      "enter age: 43\n",
      "Enter add: nfjfhgc\n",
      "Enter name: Shiva\n",
      "enter age: 54\n",
      "Enter add: ngkfhg\n"
     ]
    }
   ],
   "source": [
    "s = \"\"\n",
    "b = open('data.csv','a') # can be open in exel format\n",
    "b.write(\"Name,Age,Address\\n\")\n",
    "n = int(input(\"n = \"))\n",
    "for i in range(n):\n",
    "    name = input(\"Enter name: \")\n",
    "    age = int(input(\"enter age: \"))\n",
    "    add = input(\"Enter add: \")\n",
    "    info = f\"{name},{age},{add}\\n\"\n",
    "    s = s+info\n",
    "    \n",
    "\n",
    "b.write(s)\n",
    "b.close()"
   ]
  },
  {
   "cell_type": "code",
   "execution_count": 24,
   "metadata": {},
   "outputs": [
    {
     "name": "stdout",
     "output_type": "stream",
     "text": [
      "Name,Age,AddressHari,34,ghkjk\n",
      "Shiv,45, bcfc\n",
      "Name,Age,Address\n",
      "Hari,43,nfjfhgc\n",
      "Shiva,54,ngkfhg\n",
      "\n"
     ]
    }
   ],
   "source": [
    "b = open('data.csv','r')\n",
    "c = b.read()\n",
    "print(c)\n",
    "b.close()"
   ]
  },
  {
   "cell_type": "code",
   "execution_count": 25,
   "metadata": {},
   "outputs": [
    {
     "name": "stdout",
     "output_type": "stream",
     "text": [
      "['Name,Age,AddressHari,34,ghkjk', 'Shiv,45, bcfc', 'Name,Age,Address', 'Hari,43,nfjfhgc', 'Shiva,54,ngkfhg', '']\n",
      "['Name,Age,AddressHari,34,ghkjk', 'Shiv,45, bcfc', 'Name,Age,Address', 'Hari,43,nfjfhgc', 'Shiva,54,ngkfhg']\n"
     ]
    }
   ],
   "source": [
    "# data in list\n",
    "\n",
    "d = c.split('\\n')\n",
    "print(d)\n",
    "e = d[0:-1]\n",
    "print(e)"
   ]
  },
  {
   "cell_type": "code",
   "execution_count": 27,
   "metadata": {},
   "outputs": [
    {
     "name": "stdout",
     "output_type": "stream",
     "text": [
      "[['Name', 'Age', 'AddressHari', '34', 'ghkjk'], ['Shiv', '45', ' bcfc'], ['Name', 'Age', 'Address'], ['Hari', '43', 'nfjfhgc'], ['Shiva', '54', 'ngkfhg']]\n"
     ]
    }
   ],
   "source": [
    "# above data in list inside list\n",
    "\n",
    "data = []\n",
    "for i in e:\n",
    "    x = i.split(',')\n",
    "    data.append(x)\n",
    "print(data)"
   ]
  },
  {
   "cell_type": "code",
   "execution_count": 29,
   "metadata": {},
   "outputs": [
    {
     "name": "stdout",
     "output_type": "stream",
     "text": [
      "File doesn't exists.\n"
     ]
    }
   ],
   "source": [
    "# to remove\n",
    "\n",
    "try:\n",
    "    import os\n",
    "    os.remove('data.csv')\n",
    "except:\n",
    "    print(\"File doesn't exists.\")"
   ]
  },
  {
   "cell_type": "code",
   "execution_count": null,
   "metadata": {},
   "outputs": [],
   "source": [
    "# to copy\n",
    "\n",
    "import shutil as s\n",
    "src = 'data.txt'  \n",
    "dest = '../data/My_data.txt'  # path must be correct with the file name with format\n",
    "                              # .. means exit from here(folder)\n",
    "s.copy(src,dest)"
   ]
  },
  {
   "cell_type": "code",
   "execution_count": null,
   "metadata": {},
   "outputs": [],
   "source": []
  },
  {
   "cell_type": "code",
   "execution_count": null,
   "metadata": {},
   "outputs": [],
   "source": []
  }
 ],
 "metadata": {
  "kernelspec": {
   "display_name": "Python 3",
   "language": "python",
   "name": "python3"
  },
  "language_info": {
   "codemirror_mode": {
    "name": "ipython",
    "version": 3
   },
   "file_extension": ".py",
   "mimetype": "text/x-python",
   "name": "python",
   "nbconvert_exporter": "python",
   "pygments_lexer": "ipython3",
   "version": "3.8.5"
  }
 },
 "nbformat": 4,
 "nbformat_minor": 4
}
