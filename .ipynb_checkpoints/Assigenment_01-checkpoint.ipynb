{
 "cells": [
  {
   "cell_type": "code",
   "execution_count": 34,
   "metadata": {
    "colab": {
     "base_uri": "https://localhost:8080/"
    },
    "id": "VGFFyktZMEw3",
    "outputId": "dd154128-d305-4933-e072-d9a74300d926"
   },
   "outputs": [
    {
     "name": "stdout",
     "output_type": "stream",
     "text": [
      "Enter the lowest interval: 1\n",
      "Enter the upper interval: 20\n",
      "Prime numbers between Interval 1 & 20 are:\n",
      "2  3  5  7  11  13  17  19  "
     ]
    }
   ],
   "source": [
    "#Prime numbers in given interval\r\n",
    "\r\n",
    "s = int(input(\"Enter the lowest interval: \"))\r\n",
    "e = int(input(\"Enter the upper interval: \"))\r\n",
    "print(\"Prime numbers between Interval\", s, \"&\",e,\"are:\")\r\n",
    "for n in range(s,e+1):\r\n",
    "    flag = 0\r\n",
    "    for i in range(2,(n//2)+1): #  for i in range(2,n): but it increase runtime\r\n",
    "      if (n%i)==0:\r\n",
    "            flag = 1\r\n",
    "            break\r\n",
    "\r\n",
    "    if flag == 0 and n != 1 :\r\n",
    "        print(n, end = '  ')\r\n"
   ]
  },
  {
   "cell_type": "code",
   "execution_count": 35,
   "metadata": {
    "colab": {
     "base_uri": "https://localhost:8080/"
    },
    "id": "x-yKWwb4rD8m",
    "outputId": "3f3acb96-b569-442c-9355-02390f45fb14"
   },
   "outputs": [
    {
     "name": "stdout",
     "output_type": "stream",
     "text": [
      "Enter the lowest interval: 1\n",
      "Enter the upper interval: 20\n",
      "Compositive numbers between Interval 1 & 20 are:\n",
      "4  6  8  9  10  12  14  15  16  18  20  "
     ]
    }
   ],
   "source": [
    "#Compositive numbers in given interval\r\n",
    "\r\n",
    "s = int(input(\"Enter the lowest interval: \"))\r\n",
    "e = int(input(\"Enter the upper interval: \"))\r\n",
    "print(\"Compositive numbers between Interval\", s, \"&\",e,\"are:\")\r\n",
    "for n in range(s,e+1):\r\n",
    "    flag = 0\r\n",
    "    for i in range(2,(n//2)+1): #  for i in range(2,n): but it increase runtime\r\n",
    "      if (n%i)==0:\r\n",
    "            flag = 1\r\n",
    "            break\r\n",
    "\r\n",
    "    if flag != 0 and n != 1 :\r\n",
    "        print(n, end = '  ')\r\n",
    "\r\n",
    "   \r\n",
    "    "
   ]
  },
  {
   "cell_type": "code",
   "execution_count": null,
   "metadata": {
    "colab": {
     "base_uri": "https://localhost:8080/"
    },
    "id": "F-yyYsaKW2nl",
    "outputId": "43e4415b-5942-4eb0-f281-e7d705ae19f6"
   },
   "outputs": [
    {
     "name": "stdout",
     "output_type": "stream",
     "text": [
      "Enter a Natural number: 5\n",
      "5  is  a Prime Number \n"
     ]
    }
   ],
   "source": [
    "# To check the Entered number is Prime Number Or Cpompositive Number\r\n",
    "\r\n",
    "num = int(input(\"Enter a Natural number: \"))\r\n",
    "if num == 0:\r\n",
    "  print(\" 0 is not a Natural number \")\r\n",
    "elif num == 1:\r\n",
    "  print(\" 1 is neither a Prime Number nor a Compositive Number \")\r\n",
    "else:\r\n",
    "  for i in range(2,(num//2)+1):\r\n",
    "    if (num%i) == 0:\r\n",
    "      print(num,\" is  a Compositive Number \")\r\n",
    "      break\r\n",
    "  else:\r\n",
    "    print(num,\" is  a Prime Number \")\r\n",
    "\r\n",
    "\r\n",
    "\r\n"
   ]
  },
  {
   "cell_type": "code",
   "execution_count": null,
   "metadata": {
    "colab": {
     "base_uri": "https://localhost:8080/"
    },
    "id": "rPLbLHDzbzW4",
    "outputId": "f68a3c8f-d63d-43a5-ed6b-ab19cc412d58"
   },
   "outputs": [
    {
     "name": "stdout",
     "output_type": "stream",
     "text": [
      "Enter the nth term of the series: 20\n",
      "0\n",
      "1\n",
      "1\n",
      "2\n",
      "3\n",
      "5\n",
      "8\n",
      "13\n",
      "21\n",
      "34\n",
      "55\n",
      "89\n",
      "144\n",
      "233\n",
      "377\n",
      "610\n",
      "987\n",
      "1597\n",
      "2584\n",
      "4181\n"
     ]
    }
   ],
   "source": [
    "#Fibonacci Series\r\n",
    "\r\n",
    "n = int(input(\"Enter the nth term of the series: \"))\r\n",
    "a = 0\r\n",
    "b = 1\r\n",
    "for i in range(n):\r\n",
    "  print(a)\r\n",
    "  temp = a\r\n",
    "  a = b\r\n",
    "  b = temp+a\r\n"
   ]
  }
 ],
 "metadata": {
  "colab": {
   "name": "Assigenment_01.ipynb",
   "provenance": []
  },
  "kernelspec": {
   "display_name": "Python 3",
   "name": "python3"
  }
 },
 "nbformat": 4,
 "nbformat_minor": 0
}
