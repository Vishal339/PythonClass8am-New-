{
 "cells": [
  {
   "cell_type": "code",
   "execution_count": null,
   "metadata": {},
   "outputs": [],
   "source": [
    "# Tuple\n",
    " # -indexing\n",
    " # -ordered\n",
    " # -duplicate members\n",
    " # -Imutable"
   ]
  },
  {
   "cell_type": "code",
   "execution_count": 2,
   "metadata": {},
   "outputs": [
    {
     "name": "stdout",
     "output_type": "stream",
     "text": [
      "<class 'tuple'>\n",
      "<class 'tuple'>\n"
     ]
    }
   ],
   "source": [
    "a = tuple()\n",
    "b = (1,2,3)\n",
    "print (type(a))\n",
    "print (type(b))"
   ]
  },
  {
   "cell_type": "code",
   "execution_count": 3,
   "metadata": {},
   "outputs": [
    {
     "name": "stdout",
     "output_type": "stream",
     "text": [
      "<class 'tuple'>\n",
      "<class 'int'>\n",
      "<class 'tuple'>\n"
     ]
    }
   ],
   "source": [
    "# Ways to write tuples (, is important after element to represent that it's type is Tuple.)\n",
    "a = (1,)\n",
    "b = (1)\n",
    "c = 1,\n",
    "print (type(a))\n",
    "print (type(b))\n",
    "print (type(c))"
   ]
  },
  {
   "cell_type": "code",
   "execution_count": 2,
   "metadata": {},
   "outputs": [
    {
     "name": "stdout",
     "output_type": "stream",
     "text": [
      "Apple\n",
      "Ball\n",
      "Cat\n",
      "Dog\n",
      "('Apple', 'Ball', 'Cat')\n"
     ]
    }
   ],
   "source": [
    "# indexing and sclicing\n",
    "a = (\"Apple\",\"Ball\",\"Cat\",\"Dog\")\n",
    "print(a[0])\n",
    "print(a[1])\n",
    "print(a[2])\n",
    "print(a[3])\n",
    "print(a[0:3])\n"
   ]
  },
  {
   "cell_type": "raw",
   "metadata": {},
   "source": [
    "# append(), del(), replace(), pop(), update(), sort()- these function is not applicable on tuples"
   ]
  },
  {
   "cell_type": "code",
   "execution_count": 4,
   "metadata": {},
   "outputs": [
    {
     "name": "stdout",
     "output_type": "stream",
     "text": [
      "('Apple', 'Ball', 'Cat', 'Dog', 'Ball')\n",
      "('Apple', 'Ball', 'Apple', 'Ball')\n"
     ]
    }
   ],
   "source": [
    "# Tuple concatenate\n",
    "\n",
    "c = ()\n",
    "a = (\"Apple\",\"Ball\")\n",
    "b = (\"Cat\",\"Dog\", \"Ball\")\n",
    "print(a+b+c)\n",
    "print(a*2)"
   ]
  },
  {
   "cell_type": "code",
   "execution_count": 2,
   "metadata": {},
   "outputs": [
    {
     "name": "stdout",
     "output_type": "stream",
     "text": [
      "n= 4\n",
      "Enter Name: Ram\n",
      "Enter Name: Shyam\n",
      "Enter Name: Gyani\n",
      "Enter Name: Praveen\n",
      "('Ram', 'Shyam', 'Gyani', 'Praveen')\n"
     ]
    }
   ],
   "source": [
    "# to create tuple\n",
    "y = tuple()\n",
    "n = int(input(\"n= \"))\n",
    "for i in range(n):\n",
    "    x= input(\"Enter Name: \")\n",
    "    y = y+(x,)\n",
    "print(y)"
   ]
  },
  {
   "cell_type": "code",
   "execution_count": 5,
   "metadata": {},
   "outputs": [
    {
     "name": "stdout",
     "output_type": "stream",
     "text": [
      "n= 3\n",
      "Enter Name: 21\n",
      "Enter Name: 11\n",
      "Enter Name: 31\n",
      "Tupple is  (21, 11, 31)\n",
      "max value is  31\n",
      "min value is  11\n",
      "Total element_int sum value =  63\n",
      "Sorted value is  [11, 21, 31]\n"
     ]
    }
   ],
   "source": [
    "# max() min() sum() sorted()\n",
    "y = tuple()\n",
    "n = int(input(\"n= \"))\n",
    "for i in range(n):\n",
    "    x= int(input(\"Enter Name: \"))\n",
    "    y = y+(x,)\n",
    "print(\"Tupple is \" ,y)\n",
    "print(\"max value is \" ,max(y))   # To find the max valued element(int) in the given tuple(y). \n",
    "print(\"min value is \" ,min(y))   # To find the min valued element(int) in the given tuple(y). \n",
    "print(\"Total element_int sum value = \",sum(y))\n",
    "print(\"Sorted value is \",sorted(y))   # Always return the value in list\n",
    "\n"
   ]
  },
  {
   "cell_type": "code",
   "execution_count": 6,
   "metadata": {},
   "outputs": [
    {
     "name": "stdout",
     "output_type": "stream",
     "text": [
      "(243, 34, 35, 234)\n"
     ]
    }
   ],
   "source": [
    "# Sclicing and Concatenate\n",
    "\n",
    "a = (243, 34, 234, 35, 234)\n",
    "b = a[0:2]\n",
    "c = a[3:]\n",
    "print(b+c)"
   ]
  },
  {
   "cell_type": "code",
   "execution_count": 5,
   "metadata": {},
   "outputs": [
    {
     "data": {
      "text/plain": [
       "()"
      ]
     },
     "execution_count": 5,
     "metadata": {},
     "output_type": "execute_result"
    }
   ],
   "source": [
    "# To modify(del) the tuple\n",
    "# Covert tuple into list which can be modified(edit/delete)\n",
    "# Perform the modification\n",
    "# Convert back the resulting list into tuple\n",
    "\n",
    "a= (243,)\n",
    "b = list(a) # Coverting tuple into list which can be modified(edit/delete)\n",
    "del b[0:]   # Performing the modification\n",
    "tuple(b)    # Converting back the resulting list into tuple"
   ]
  },
  {
   "cell_type": "code",
   "execution_count": 7,
   "metadata": {},
   "outputs": [],
   "source": [
    "# Multi Dimensional Tuple\n",
    "a = ((1,2,3),(3,4,5),(6,7,8))    #tuple inside tuple  \n",
    "a = [(1,2,3),(3,4,5),(6,7,8)]    #tuple inside list\n",
    "a = ([1,2,3],[3,4,5],[6,7,8])    ##list inside tuple \n"
   ]
  },
  {
   "cell_type": "code",
   "execution_count": 3,
   "metadata": {},
   "outputs": [
    {
     "name": "stdout",
     "output_type": "stream",
     "text": [
      "n = 2\n",
      "enter x =1\n",
      "enter y =2\n",
      "enter z =3\n",
      "enter x =4\n",
      "enter y =5\n",
      "enter z =6\n",
      "((1, 2, 3), (4, 5, 6))\n"
     ]
    }
   ],
   "source": [
    "# To create tuple inside tuple  \n",
    "\n",
    "t = tuple()\n",
    "n = int(input(\"n = \"))\n",
    "for i in range(n):\n",
    "    x = int(input(\"enter x =\"))\n",
    "    y = int(input(\"enter y =\"))\n",
    "    z = int(input(\"enter z =\"))\n",
    "    t = t+((x,y,z),)\n",
    "print(t)\n",
    "    \n",
    "    \n"
   ]
  },
  {
   "cell_type": "code",
   "execution_count": null,
   "metadata": {},
   "outputs": [],
   "source": []
  },
  {
   "cell_type": "code",
   "execution_count": 2,
   "metadata": {},
   "outputs": [
    {
     "name": "stdout",
     "output_type": "stream",
     "text": [
      "[(1, 2, 3), (3, 4, 5), (6, 7, 8), (11, 12, 13)]\n"
     ]
    }
   ],
   "source": [
    "# To add element in the existing tuple (as tuple is in inmutable, we need to convert it into list is mutable.)\n",
    "a = ((1,2,3),(3,4,5),(6,7,8))\n",
    "b =list(a)\n",
    "b.append((11,12,13))\n",
    "print(b)\n"
   ]
  },
  {
   "cell_type": "code",
   "execution_count": 6,
   "metadata": {},
   "outputs": [
    {
     "name": "stdout",
     "output_type": "stream",
     "text": [
      "[[1, 2, 3], [3, 4, 5], [6, 7, 8]]\n"
     ]
    }
   ],
   "source": [
    "# to convert tuple inside tuple into list inside list\n",
    "\n",
    "b = []\n",
    "a = ((1,2,3),(3,4,5),(6,7,8))\n",
    "for i in a:\n",
    "    b.append(list(i))\n",
    "print(b)"
   ]
  },
  {
   "cell_type": "code",
   "execution_count": 9,
   "metadata": {},
   "outputs": [
    {
     "name": "stdout",
     "output_type": "stream",
     "text": [
      "((1, 2, 3), (3, 4, 5), (6, 7, 8))\n"
     ]
    }
   ],
   "source": [
    "# to convert list inside list  into  tuple inside tuple\n",
    "b = ()\n",
    "a = [[1,2,3],[3,4,5],[6,7,8]]\n",
    "for i in a:\n",
    "    b =b+(tuple(i),)\n",
    "print(b)"
   ]
  },
  {
   "cell_type": "code",
   "execution_count": 10,
   "metadata": {},
   "outputs": [
    {
     "name": "stdout",
     "output_type": "stream",
     "text": [
      "((1, 2, 3), (3, 4, 5), (6, 7, 8), (9, 2, 1), (5, 6, 2))\n"
     ]
    }
   ],
   "source": [
    "a = ((1, 2, 3), (3, 4, 5), (6, 7, 8))\n",
    "b = ((9,2,1),(5,6,2))\n",
    "print(a+b)"
   ]
  },
  {
   "cell_type": "code",
   "execution_count": 12,
   "metadata": {},
   "outputs": [
    {
     "name": "stdout",
     "output_type": "stream",
     "text": [
      "((1, 2, 3), (3, 4, 5), (6, 7, 8), 9, 2, 1)\n"
     ]
    }
   ],
   "source": [
    "a = ((1, 2, 3), (3, 4, 5), (6, 7, 8))\n",
    "b = (9,2,1)\n",
    "print(a+b)"
   ]
  },
  {
   "cell_type": "code",
   "execution_count": 2,
   "metadata": {},
   "outputs": [
    {
     "name": "stdout",
     "output_type": "stream",
     "text": [
      "n = 2\n",
      "Enter the value = 1\n",
      "Enter the value = 2\n",
      "Enter the value = 3\n",
      "Enter the value = 4\n",
      "Enter the value = 5\n",
      "Enter the value = 6\n",
      "((1, 2, 3), (4, 5, 6))\n"
     ]
    }
   ],
   "source": [
    "# to create tuple inside tuple using more complexcity \n",
    "\n",
    "t1 = tuple()\n",
    "n = int(input(\"n = \"))\n",
    "for i in range(n):\n",
    "    t2 = tuple()\n",
    "    for j in range(3):\n",
    "        j = int(input(\"Enter the value = \"))\n",
    "        t2  = t2+(j,)\n",
    "    t1 = t1+(t2,)\n",
    "print(t1)\n",
    "    "
   ]
  },
  {
   "cell_type": "code",
   "execution_count": null,
   "metadata": {},
   "outputs": [],
   "source": []
  }
 ],
 "metadata": {
  "kernelspec": {
   "display_name": "Python 3",
   "language": "python",
   "name": "python3"
  },
  "language_info": {
   "codemirror_mode": {
    "name": "ipython",
    "version": 3
   },
   "file_extension": ".py",
   "mimetype": "text/x-python",
   "name": "python",
   "nbconvert_exporter": "python",
   "pygments_lexer": "ipython3",
   "version": "3.8.5"
  }
 },
 "nbformat": 4,
 "nbformat_minor": 4
}
