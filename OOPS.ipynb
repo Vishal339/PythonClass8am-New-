{
 "cells": [
  {
   "cell_type": "markdown",
   "metadata": {},
   "source": [
    "# operator overloading"
   ]
  },
  {
   "cell_type": "code",
   "execution_count": 2,
   "metadata": {},
   "outputs": [
    {
     "name": "stdout",
     "output_type": "stream",
     "text": [
      "<class '__main__.Point'>\n",
      "<class '__main__.Point'>\n"
     ]
    },
    {
     "ename": "TypeError",
     "evalue": "unsupported operand type(s) for +: 'Point' and 'Point'",
     "output_type": "error",
     "traceback": [
      "\u001b[1;31m---------------------------------------------------------------------------\u001b[0m",
      "\u001b[1;31mTypeError\u001b[0m                                 Traceback (most recent call last)",
      "\u001b[1;32m<ipython-input-2-dee020cd3076>\u001b[0m in \u001b[0;36m<module>\u001b[1;34m\u001b[0m\n\u001b[0;32m     13\u001b[0m \u001b[0mprint\u001b[0m\u001b[1;33m(\u001b[0m\u001b[0mtype\u001b[0m\u001b[1;33m(\u001b[0m\u001b[0mp1\u001b[0m\u001b[1;33m)\u001b[0m\u001b[1;33m)\u001b[0m\u001b[1;33m\u001b[0m\u001b[1;33m\u001b[0m\u001b[0m\n\u001b[0;32m     14\u001b[0m \u001b[0mprint\u001b[0m\u001b[1;33m(\u001b[0m\u001b[0mtype\u001b[0m\u001b[1;33m(\u001b[0m\u001b[0mp2\u001b[0m\u001b[1;33m)\u001b[0m\u001b[1;33m)\u001b[0m\u001b[1;33m\u001b[0m\u001b[1;33m\u001b[0m\u001b[0m\n\u001b[1;32m---> 15\u001b[1;33m \u001b[0mprint\u001b[0m\u001b[1;33m(\u001b[0m\u001b[0mp1\u001b[0m\u001b[1;33m+\u001b[0m\u001b[0mp2\u001b[0m\u001b[1;33m)\u001b[0m\u001b[1;33m\u001b[0m\u001b[1;33m\u001b[0m\u001b[0m\n\u001b[0m",
      "\u001b[1;31mTypeError\u001b[0m: unsupported operand type(s) for +: 'Point' and 'Point'"
     ]
    }
   ],
   "source": [
    "\n",
    "class Point:\n",
    "    def __init__(self,x=0,y=0):\n",
    "        self.x = x\n",
    "        self.y = y\n",
    "        \n",
    "    def __str__(self):\n",
    "        return self.x,self.y\n",
    "        \n",
    "p1 = Point(2,3)\n",
    "p2 = Point(-1,2)\n",
    "print(type(p1))\n",
    "print(type(p2))\n",
    "print(p1+p2)"
   ]
  },
  {
   "cell_type": "code",
   "execution_count": 4,
   "metadata": {},
   "outputs": [
    {
     "name": "stdout",
     "output_type": "stream",
     "text": [
      "<class '__main__.Point'>\n",
      "<class '__main__.Point'>\n",
      "1,5\n"
     ]
    }
   ],
   "source": [
    "class Point:\n",
    "    def __init__(self,x=0,y=0):\n",
    "        self.x = x\n",
    "        self.y = y\n",
    "        \n",
    "    def __str__(self):\n",
    "        return f\"{self.x},{self.y}\"\n",
    "    \n",
    "    def __add__(self,other):\n",
    "        x = self.x + other.x\n",
    "        y = self.y + other.y\n",
    "        return Point(x,y)\n",
    "        \n",
    "p1 = Point(2,3)\n",
    "p2 = Point(-1,2)\n",
    "print(type(p1))\n",
    "print(type(p2))\n",
    "print(p1+p2)"
   ]
  },
  {
   "cell_type": "code",
   "execution_count": 5,
   "metadata": {},
   "outputs": [
    {
     "name": "stdout",
     "output_type": "stream",
     "text": [
      "<class '__main__.Point'>\n",
      "<class '__main__.Point'>\n",
      "0,7\n"
     ]
    }
   ],
   "source": [
    "class Point:\n",
    "    def __init__(self,x=0,y=0):\n",
    "        self.x = x\n",
    "        self.y = y\n",
    "        \n",
    "    def __str__(self):\n",
    "        return f\"{self.x},{self.y}\"\n",
    "    \n",
    "    def __add__(self,other):\n",
    "        x = self.x + other.x\n",
    "        y = self.y + other.y\n",
    "        return Point(x,y)\n",
    "        \n",
    "p1 = Point(2,3)\n",
    "p2 = Point(-1,2)\n",
    "p3 = Point(-1,2)\n",
    "print(type(p1))\n",
    "print(type(p2))\n",
    "print(p1+p2+p3)"
   ]
  },
  {
   "cell_type": "code",
   "execution_count": 13,
   "metadata": {},
   "outputs": [
    {
     "name": "stdout",
     "output_type": "stream",
     "text": [
      "This is init method 2 3 5\n",
      "This is init method -1 2 1\n",
      "This is add method 1 5 6\n",
      "This is init method 1 5 6\n",
      "This is str method\n",
      "1,5,6\n"
     ]
    }
   ],
   "source": [
    "class Point:\n",
    "    def __init__(self,x=0,y=0,z=0):\n",
    "        self.x = x\n",
    "        self.y = y\n",
    "        self.z = z\n",
    "        print(\"This is init method\",self.x,self.y,self.z)\n",
    "        \n",
    "    def __str__(self):\n",
    "        print(\"This is str method\")\n",
    "        return f\"{self.x},{self.y},{self.z}\"\n",
    "    \n",
    "    def __add__(self,other):\n",
    "        x = self.x + other.x\n",
    "        y = self.y + other.y\n",
    "        z = self.z + other.z\n",
    "        print(\"This is add method\",x,y,z)\n",
    "        return Point(x,y,z)\n",
    "        \n",
    "p1 = Point(2,3,5)\n",
    "p2 = Point(-1,2,1)\n",
    "\n",
    "print(p1+p2)"
   ]
  },
  {
   "cell_type": "code",
   "execution_count": 15,
   "metadata": {},
   "outputs": [
    {
     "name": "stdout",
     "output_type": "stream",
     "text": [
      "This is init method 2\n",
      "This is init method -1\n",
      "This is init method 3\n",
      "This is add method 1\n",
      "This is init method 1\n",
      "This is add method 4\n",
      "This is init method 4\n",
      "This is str method\n",
      "4\n"
     ]
    }
   ],
   "source": [
    "class Point:\n",
    "    def __init__(self,x):\n",
    "        self.x = x\n",
    "        print(\"This is init method\",self.x)\n",
    "        \n",
    "    def __str__(self):\n",
    "        print(\"This is str method\")\n",
    "        return f\"{self.x}\"\n",
    "    \n",
    "    def __add__(self,other):\n",
    "        x = self.x + other.x\n",
    "        print(\"This is add method\",x)\n",
    "        return Point(x)\n",
    "        \n",
    "p1 = Point(2)\n",
    "p2 = Point(-1)\n",
    "p3 = Point(3)\n",
    "\n",
    "print(p1+p2+p3)"
   ]
  },
  {
   "cell_type": "markdown",
   "metadata": {},
   "source": [
    "# polymorphism"
   ]
  },
  {
   "cell_type": "code",
   "execution_count": null,
   "metadata": {},
   "outputs": [],
   "source": [
    " "
   ]
  }
 ],
 "metadata": {
  "kernelspec": {
   "display_name": "Python 3",
   "language": "python",
   "name": "python3"
  },
  "language_info": {
   "codemirror_mode": {
    "name": "ipython",
    "version": 3
   },
   "file_extension": ".py",
   "mimetype": "text/x-python",
   "name": "python",
   "nbconvert_exporter": "python",
   "pygments_lexer": "ipython3",
   "version": "3.8.5"
  }
 },
 "nbformat": 4,
 "nbformat_minor": 4
}
