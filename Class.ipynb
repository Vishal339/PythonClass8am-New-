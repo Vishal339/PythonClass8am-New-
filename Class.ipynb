{
 "cells": [
  {
   "cell_type": "code",
   "execution_count": 1,
   "metadata": {},
   "outputs": [
    {
     "name": "stdout",
     "output_type": "stream",
     "text": [
      "Hello World\n"
     ]
    }
   ],
   "source": [
    "class Python:     # class\n",
    "    print(\"Hello World\")\n",
    "    \n",
    "obj = Python()    # object\n"
   ]
  },
  {
   "cell_type": "code",
   "execution_count": 3,
   "metadata": {},
   "outputs": [
    {
     "ename": "TypeError",
     "evalue": "hello() takes 0 positional arguments but 1 was given",
     "output_type": "error",
     "traceback": [
      "\u001b[1;31m---------------------------------------------------------------------------\u001b[0m",
      "\u001b[1;31mTypeError\u001b[0m                                 Traceback (most recent call last)",
      "\u001b[1;32m<ipython-input-3-1b1f9cacda4b>\u001b[0m in \u001b[0;36m<module>\u001b[1;34m\u001b[0m\n\u001b[0;32m      4\u001b[0m         \u001b[0mprint\u001b[0m\u001b[1;33m(\u001b[0m\u001b[1;34m\"Hello World\"\u001b[0m\u001b[1;33m)\u001b[0m\u001b[1;33m\u001b[0m\u001b[1;33m\u001b[0m\u001b[0m\n\u001b[0;32m      5\u001b[0m \u001b[0mobj\u001b[0m \u001b[1;33m=\u001b[0m \u001b[0mPython\u001b[0m\u001b[1;33m(\u001b[0m\u001b[1;33m)\u001b[0m\u001b[1;33m\u001b[0m\u001b[1;33m\u001b[0m\u001b[0m\n\u001b[1;32m----> 6\u001b[1;33m \u001b[0mobj\u001b[0m\u001b[1;33m.\u001b[0m\u001b[0mhello\u001b[0m\u001b[1;33m(\u001b[0m\u001b[1;33m)\u001b[0m\u001b[1;33m\u001b[0m\u001b[1;33m\u001b[0m\u001b[0m\n\u001b[0m",
      "\u001b[1;31mTypeError\u001b[0m: hello() takes 0 positional arguments but 1 was given"
     ]
    }
   ],
   "source": [
    "class Python:\n",
    "    def hello():\n",
    "        \n",
    "        print(\"Hello World\")\n",
    "obj = Python()\n",
    "obj.hello()"
   ]
  },
  {
   "cell_type": "code",
   "execution_count": 4,
   "metadata": {},
   "outputs": [
    {
     "name": "stdout",
     "output_type": "stream",
     "text": [
      "Hello World\n"
     ]
    }
   ],
   "source": [
    "class Python: # class\n",
    "    def hello(self):  # method\n",
    "        \n",
    "        print(\"Hello World\")\n",
    "obj = Python() # object\n",
    "obj.hello()  # calling method through object"
   ]
  },
  {
   "cell_type": "code",
   "execution_count": 5,
   "metadata": {},
   "outputs": [
    {
     "name": "stdout",
     "output_type": "stream",
     "text": [
      "30\n"
     ]
    }
   ],
   "source": [
    "class cal:\n",
    "    def area(self,l,b):\n",
    "        a = l*b\n",
    "        print(a)\n",
    "        \n",
    "obj = cal()\n",
    "obj.area(10,3)\n",
    "        "
   ]
  },
  {
   "cell_type": "code",
   "execution_count": 8,
   "metadata": {},
   "outputs": [
    {
     "name": "stdout",
     "output_type": "stream",
     "text": [
      "Area = 30\n",
      "Volume = 60\n"
     ]
    }
   ],
   "source": [
    "# \n",
    "\n",
    "class Cal:\n",
    "    def area(self,l,b):\n",
    "        a = l*b\n",
    "        print(\"Area =\",a)\n",
    "    def volume(self,l,b,h):\n",
    "        v = l*b*h\n",
    "        print(\"Volume =\",v)\n",
    "        \n",
    "obj = Cal()\n",
    "obj.area(10,3)\n",
    "obj.volume(10,3,2)\n",
    "        "
   ]
  },
  {
   "cell_type": "code",
   "execution_count": 12,
   "metadata": {},
   "outputs": [
    {
     "name": "stdout",
     "output_type": "stream",
     "text": [
      "Area = 20\n",
      "Volume = 60\n"
     ]
    }
   ],
   "source": [
    "# Constructor ( self is used as constructor)\n",
    "# __init__ function is use to initialize \n",
    "\n",
    "class Cal:\n",
    "    def __init__(self,l,b,h):\n",
    "        self.l = l\n",
    "        self.b = b\n",
    "        self.h = h\n",
    "    \n",
    "    def area(self):\n",
    "        a = self.l*self.b\n",
    "        print(\"Area =\",a)\n",
    "    \n",
    "    def volume(self):\n",
    "        v = self.l*(self.b*self.h)\n",
    "        print(\"Volume =\",v)\n",
    "        \n",
    "obj = Cal(10,2,3)\n",
    "obj.area()\n",
    "obj.volume()"
   ]
  },
  {
   "cell_type": "code",
   "execution_count": 17,
   "metadata": {},
   "outputs": [
    {
     "name": "stdout",
     "output_type": "stream",
     "text": [
      "Area = 20\n",
      "Volume = 60\n"
     ]
    }
   ],
   "source": [
    "# Constructor ( self is used as constructor)\n",
    "# __init__ function is use to initialize \n",
    "\n",
    "class Cal:\n",
    "    def __init__(self,l,b):\n",
    "        self.l = l\n",
    "        self.b = b\n",
    "        \n",
    "    def area(this):   # reference in method will be any thing.\n",
    "        a = this.l*this.b # but it always have same reference as in function, other wise it will show error.\n",
    "        print(\"Area =\",a)\n",
    "    \n",
    "    def volume(self,h):\n",
    "        v = self.l*self.b*h\n",
    "        print(\"Volume =\",v)\n",
    "        \n",
    "obj = Cal(10,2)\n",
    "obj.area()\n",
    "obj.volume(3)"
   ]
  },
  {
   "cell_type": "code",
   "execution_count": 21,
   "metadata": {},
   "outputs": [
    {
     "name": "stdout",
     "output_type": "stream",
     "text": [
      "Areaa = 20\n",
      "Volume = 60\n"
     ]
    }
   ],
   "source": [
    "# Constructor ( self is used as constructor)\n",
    "# __init__ function is use to initialize \n",
    "\n",
    "class Cal:\n",
    "    def __init__(self,l,b):\n",
    "        self.l = l\n",
    "        self.b = b\n",
    "        \n",
    "    def area(this):   # reference in method will be any thing.\n",
    "        a = this.l*this.b # but it always have same reference as in function, other wise it will show error.\n",
    "        return a\n",
    "    \n",
    "    def volume(self,a,h):\n",
    "        v = a*h\n",
    "        print(\"Volume =\",v)\n",
    "        \n",
    "obj = Cal(10,2)\n",
    "print(\"Areaa =\",obj.area())\n",
    "obj.volume(obj.area(),3)"
   ]
  },
  {
   "cell_type": "code",
   "execution_count": 24,
   "metadata": {},
   "outputs": [
    {
     "name": "stdout",
     "output_type": "stream",
     "text": [
      "20\n",
      "20\n",
      "<class '__main__.Cal'>\n",
      "<class 'str'>\n"
     ]
    }
   ],
   "source": [
    "# __str__ function \n",
    "\n",
    "class Cal:\n",
    "    def __init__(self,l,b):\n",
    "        self.l = l\n",
    "        self.b = b\n",
    "    \n",
    "    def __str__(self):\n",
    "        a = self.l*self.b\n",
    "        return f\"{a}\"\n",
    "        \n",
    "obj = Cal(10,2)\n",
    "print(obj)\n",
    "print(obj.__str__()) \n",
    "print(type(obj)) \n",
    "\n",
    "obj1 = str(obj)\n",
    "print(type(obj1)) "
   ]
  },
  {
   "cell_type": "code",
   "execution_count": 25,
   "metadata": {},
   "outputs": [
    {
     "name": "stdout",
     "output_type": "stream",
     "text": [
      "l =2\n",
      "b =2\n",
      "4\n",
      "4\n",
      "<class '__main__.Cal'>\n",
      "<class 'str'>\n"
     ]
    }
   ],
   "source": [
    "#__str__ function \n",
    "\n",
    "class Cal:\n",
    "    def __init__(self,l,b):\n",
    "        self.l = l\n",
    "        self.b = b\n",
    "    \n",
    "    def __str__(self):\n",
    "        a = self.l*self.b\n",
    "        return f\"{a}\"\n",
    "\n",
    "l = int(input(\"l =\"))\n",
    "b = int(input(\"b =\"))\n",
    "        \n",
    "obj = Cal(l,b)\n",
    "print(obj)\n",
    "print(obj.__str__()) \n",
    "print(type(obj)) \n",
    "\n",
    "obj1 = str(obj)\n",
    "print(type(obj1)) "
   ]
  },
  {
   "cell_type": "code",
   "execution_count": 26,
   "metadata": {},
   "outputs": [
    {
     "name": "stdout",
     "output_type": "stream",
     "text": [
      "l =2\n",
      "b =3\n",
      "{'Area': 6}\n",
      "<class '__main__.Cal'>\n"
     ]
    }
   ],
   "source": [
    "# __repr__  method\n",
    "\n",
    "class Cal:\n",
    "    def __init__(self,l,b):\n",
    "        self.l = l\n",
    "        self.b = b\n",
    "    \n",
    "    def __repr__(self):\n",
    "        a = self.l*self.b\n",
    "        return {\"Area\":a}\n",
    "\n",
    "l = int(input(\"l =\"))\n",
    "b = int(input(\"b =\"))\n",
    "        \n",
    "obj = Cal(l,b)\n",
    "print(obj.__repr__())\n",
    "print(type(obj)) \n"
   ]
  },
  {
   "cell_type": "code",
   "execution_count": null,
   "metadata": {},
   "outputs": [],
   "source": []
  },
  {
   "cell_type": "code",
   "execution_count": null,
   "metadata": {},
   "outputs": [],
   "source": []
  },
  {
   "cell_type": "code",
   "execution_count": null,
   "metadata": {},
   "outputs": [],
   "source": []
  },
  {
   "cell_type": "code",
   "execution_count": null,
   "metadata": {},
   "outputs": [],
   "source": []
  },
  {
   "cell_type": "code",
   "execution_count": null,
   "metadata": {},
   "outputs": [],
   "source": []
  },
  {
   "cell_type": "code",
   "execution_count": null,
   "metadata": {},
   "outputs": [],
   "source": []
  },
  {
   "cell_type": "code",
   "execution_count": null,
   "metadata": {},
   "outputs": [],
   "source": []
  },
  {
   "cell_type": "code",
   "execution_count": null,
   "metadata": {},
   "outputs": [],
   "source": []
  },
  {
   "cell_type": "code",
   "execution_count": null,
   "metadata": {},
   "outputs": [],
   "source": []
  },
  {
   "cell_type": "code",
   "execution_count": null,
   "metadata": {},
   "outputs": [],
   "source": []
  },
  {
   "cell_type": "code",
   "execution_count": null,
   "metadata": {},
   "outputs": [],
   "source": []
  },
  {
   "cell_type": "code",
   "execution_count": null,
   "metadata": {},
   "outputs": [],
   "source": []
  }
 ],
 "metadata": {
  "kernelspec": {
   "display_name": "Python 3",
   "language": "python",
   "name": "python3"
  },
  "language_info": {
   "codemirror_mode": {
    "name": "ipython",
    "version": 3
   },
   "file_extension": ".py",
   "mimetype": "text/x-python",
   "name": "python",
   "nbconvert_exporter": "python",
   "pygments_lexer": "ipython3",
   "version": "3.8.5"
  }
 },
 "nbformat": 4,
 "nbformat_minor": 4
}
